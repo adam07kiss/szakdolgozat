{
 "cells": [
  {
   "cell_type": "code",
   "execution_count": 205,
   "outputs": [],
   "source": [
    "import pandas as pd"
   ],
   "metadata": {
    "collapsed": false,
    "ExecuteTime": {
     "end_time": "2023-11-30T13:54:32.519322700Z",
     "start_time": "2023-11-30T13:54:32.513316600Z"
    }
   }
  },
  {
   "cell_type": "code",
   "execution_count": 206,
   "outputs": [],
   "source": [
    "# pd.read_excel('export.xlsx').to_csv(\"valami.csv\", header=False)\n",
    "pd.read_excel('tanterv.xlsx').to_csv(\"valami.csv\", header=False)"
   ],
   "metadata": {
    "collapsed": false,
    "ExecuteTime": {
     "end_time": "2023-11-30T13:54:33.688274300Z",
     "start_time": "2023-11-30T13:54:32.860939600Z"
    }
   }
  },
  {
   "cell_type": "code",
   "execution_count": 207,
   "outputs": [],
   "source": [
    "kodok = set(pd.read_csv('valami.csv')['Tárgycsoport kódja'].to_list())"
   ],
   "metadata": {
    "collapsed": false,
    "ExecuteTime": {
     "end_time": "2023-11-30T13:54:33.751519400Z",
     "start_time": "2023-11-30T13:54:33.692265900Z"
    }
   }
  },
  {
   "cell_type": "code",
   "execution_count": 208,
   "outputs": [
    {
     "data": {
      "text/plain": "{'MK-ALA', 'MK-DSZ', 'MK-SZD', 'MK-SZG', 'MK-SZT', 'MK-SZV'}"
     },
     "execution_count": 208,
     "metadata": {},
     "output_type": "execute_result"
    }
   ],
   "source": [
    "kodok"
   ],
   "metadata": {
    "collapsed": false,
    "ExecuteTime": {
     "end_time": "2023-11-30T13:54:33.772073400Z",
     "start_time": "2023-11-30T13:54:33.736475700Z"
    }
   }
  },
  {
   "cell_type": "code",
   "execution_count": 209,
   "outputs": [],
   "source": [
    "df = pd.read_csv('valami.csv')"
   ],
   "metadata": {
    "collapsed": false,
    "ExecuteTime": {
     "end_time": "2023-11-30T13:54:33.836181600Z",
     "start_time": "2023-11-30T13:54:33.764032700Z"
    }
   }
  },
  {
   "cell_type": "code",
   "execution_count": 210,
   "outputs": [
    {
     "data": {
      "text/plain": "         0  Kód:  Név  Kredit  Ajánlott félév  Mintatanterv  \\\n0        1   NaN  NaN    46.0             NaN           NaN   \n1        2   NaN  NaN    46.0             NaN           NaN   \n2        3   NaN  NaN    46.0             NaN           NaN   \n3        4   NaN  NaN    46.0             NaN           NaN   \n4        5   NaN  NaN    46.0             NaN           NaN   \n...    ...   ...  ...     ...             ...           ...   \n1248  1249   NaN  NaN    10.0             NaN           NaN   \n1249  1250   NaN  NaN    10.0             NaN           NaN   \n1250  1251   NaN  NaN    20.0             NaN           NaN   \n1251  1252   NaN  NaN    20.0             NaN           NaN   \n1252  1253   NaN  NaN     NaN             NaN           NaN   \n\n     Tárgycsoport kódja                                  Tárgycsoport neve  \\\n0                MK-ALA  Köztelezően teljesítendő matematika és számítá...   \n1                MK-ALA  Köztelezően teljesítendő matematika és számítá...   \n2                MK-ALA  Köztelezően teljesítendő matematika és számítá...   \n3                MK-ALA  Köztelezően teljesítendő matematika és számítá...   \n4                MK-ALA  Köztelezően teljesítendő matematika és számítá...   \n...                 ...                                                ...   \n1248             MK-SZV                                Szabadon választott   \n1249             MK-SZV                                Szabadon választott   \n1250             MK-SZD                                       Szakdolgozat   \n1251             MK-SZD                                       Szakdolgozat   \n1252             MK-SZG                                  Szakmai gyakorlat   \n\n                Tárgytípus  Eredmény  ...  Kredit.4 Ajánlott félév.4  \\\n0                 Kötelező       NaN  ...       NaN              NaN   \n1                 Kötelező       NaN  ...       NaN              NaN   \n2                 Kötelező       NaN  ...       NaN              NaN   \n3                 Kötelező       NaN  ...       NaN              NaN   \n4                 Kötelező       NaN  ...       NaN              NaN   \n...                    ...       ...  ...       ...              ...   \n1248  Szabadon választható       NaN  ...       NaN              NaN   \n1249  Szabadon választható       NaN  ...       NaN              NaN   \n1250              Kötelező       NaN  ...       NaN              NaN   \n1251              Kötelező       NaN  ...       NaN              NaN   \n1252              Kötelező       NaN  ...       NaN              NaN   \n\n     Mintatanterv.4  Tárgycsoport kódja.4  Tárgycsoport neve.4  Tárgytípus.4  \\\n0               NaN                   NaN                  NaN           NaN   \n1               NaN                   NaN                  NaN           NaN   \n2               NaN                   NaN                  NaN           NaN   \n3               NaN                   NaN                  NaN           NaN   \n4               NaN                   NaN                  NaN           NaN   \n...             ...                   ...                  ...           ...   \n1248            NaN                   NaN                  NaN           NaN   \n1249            NaN                   NaN                  NaN           NaN   \n1250            NaN                   NaN                  NaN           NaN   \n1251            NaN                   NaN                  NaN           NaN   \n1252            NaN                   NaN                  NaN           NaN   \n\n     Eredmény.4 Felv.szám.4 Kód:.5 Név.5  \n0           NaN         NaN    NaN   NaN  \n1           NaN         NaN    NaN   NaN  \n2           NaN         NaN    NaN   NaN  \n3           NaN         NaN    NaN   NaN  \n4           NaN         NaN    NaN   NaN  \n...         ...         ...    ...   ...  \n1248        NaN         NaN    NaN   NaN  \n1249        NaN         NaN    NaN   NaN  \n1250        NaN         NaN    NaN   NaN  \n1251        NaN         NaN    NaN   NaN  \n1252        NaN         NaN    NaN   NaN  \n\n[1253 rows x 53 columns]",
      "text/html": "<div>\n<style scoped>\n    .dataframe tbody tr th:only-of-type {\n        vertical-align: middle;\n    }\n\n    .dataframe tbody tr th {\n        vertical-align: top;\n    }\n\n    .dataframe thead th {\n        text-align: right;\n    }\n</style>\n<table border=\"1\" class=\"dataframe\">\n  <thead>\n    <tr style=\"text-align: right;\">\n      <th></th>\n      <th>0</th>\n      <th>Kód:</th>\n      <th>Név</th>\n      <th>Kredit</th>\n      <th>Ajánlott félév</th>\n      <th>Mintatanterv</th>\n      <th>Tárgycsoport kódja</th>\n      <th>Tárgycsoport neve</th>\n      <th>Tárgytípus</th>\n      <th>Eredmény</th>\n      <th>...</th>\n      <th>Kredit.4</th>\n      <th>Ajánlott félév.4</th>\n      <th>Mintatanterv.4</th>\n      <th>Tárgycsoport kódja.4</th>\n      <th>Tárgycsoport neve.4</th>\n      <th>Tárgytípus.4</th>\n      <th>Eredmény.4</th>\n      <th>Felv.szám.4</th>\n      <th>Kód:.5</th>\n      <th>Név.5</th>\n    </tr>\n  </thead>\n  <tbody>\n    <tr>\n      <th>0</th>\n      <td>1</td>\n      <td>NaN</td>\n      <td>NaN</td>\n      <td>46.0</td>\n      <td>NaN</td>\n      <td>NaN</td>\n      <td>MK-ALA</td>\n      <td>Köztelezően teljesítendő matematika és számítá...</td>\n      <td>Kötelező</td>\n      <td>NaN</td>\n      <td>...</td>\n      <td>NaN</td>\n      <td>NaN</td>\n      <td>NaN</td>\n      <td>NaN</td>\n      <td>NaN</td>\n      <td>NaN</td>\n      <td>NaN</td>\n      <td>NaN</td>\n      <td>NaN</td>\n      <td>NaN</td>\n    </tr>\n    <tr>\n      <th>1</th>\n      <td>2</td>\n      <td>NaN</td>\n      <td>NaN</td>\n      <td>46.0</td>\n      <td>NaN</td>\n      <td>NaN</td>\n      <td>MK-ALA</td>\n      <td>Köztelezően teljesítendő matematika és számítá...</td>\n      <td>Kötelező</td>\n      <td>NaN</td>\n      <td>...</td>\n      <td>NaN</td>\n      <td>NaN</td>\n      <td>NaN</td>\n      <td>NaN</td>\n      <td>NaN</td>\n      <td>NaN</td>\n      <td>NaN</td>\n      <td>NaN</td>\n      <td>NaN</td>\n      <td>NaN</td>\n    </tr>\n    <tr>\n      <th>2</th>\n      <td>3</td>\n      <td>NaN</td>\n      <td>NaN</td>\n      <td>46.0</td>\n      <td>NaN</td>\n      <td>NaN</td>\n      <td>MK-ALA</td>\n      <td>Köztelezően teljesítendő matematika és számítá...</td>\n      <td>Kötelező</td>\n      <td>NaN</td>\n      <td>...</td>\n      <td>NaN</td>\n      <td>NaN</td>\n      <td>NaN</td>\n      <td>NaN</td>\n      <td>NaN</td>\n      <td>NaN</td>\n      <td>NaN</td>\n      <td>NaN</td>\n      <td>NaN</td>\n      <td>NaN</td>\n    </tr>\n    <tr>\n      <th>3</th>\n      <td>4</td>\n      <td>NaN</td>\n      <td>NaN</td>\n      <td>46.0</td>\n      <td>NaN</td>\n      <td>NaN</td>\n      <td>MK-ALA</td>\n      <td>Köztelezően teljesítendő matematika és számítá...</td>\n      <td>Kötelező</td>\n      <td>NaN</td>\n      <td>...</td>\n      <td>NaN</td>\n      <td>NaN</td>\n      <td>NaN</td>\n      <td>NaN</td>\n      <td>NaN</td>\n      <td>NaN</td>\n      <td>NaN</td>\n      <td>NaN</td>\n      <td>NaN</td>\n      <td>NaN</td>\n    </tr>\n    <tr>\n      <th>4</th>\n      <td>5</td>\n      <td>NaN</td>\n      <td>NaN</td>\n      <td>46.0</td>\n      <td>NaN</td>\n      <td>NaN</td>\n      <td>MK-ALA</td>\n      <td>Köztelezően teljesítendő matematika és számítá...</td>\n      <td>Kötelező</td>\n      <td>NaN</td>\n      <td>...</td>\n      <td>NaN</td>\n      <td>NaN</td>\n      <td>NaN</td>\n      <td>NaN</td>\n      <td>NaN</td>\n      <td>NaN</td>\n      <td>NaN</td>\n      <td>NaN</td>\n      <td>NaN</td>\n      <td>NaN</td>\n    </tr>\n    <tr>\n      <th>...</th>\n      <td>...</td>\n      <td>...</td>\n      <td>...</td>\n      <td>...</td>\n      <td>...</td>\n      <td>...</td>\n      <td>...</td>\n      <td>...</td>\n      <td>...</td>\n      <td>...</td>\n      <td>...</td>\n      <td>...</td>\n      <td>...</td>\n      <td>...</td>\n      <td>...</td>\n      <td>...</td>\n      <td>...</td>\n      <td>...</td>\n      <td>...</td>\n      <td>...</td>\n      <td>...</td>\n    </tr>\n    <tr>\n      <th>1248</th>\n      <td>1249</td>\n      <td>NaN</td>\n      <td>NaN</td>\n      <td>10.0</td>\n      <td>NaN</td>\n      <td>NaN</td>\n      <td>MK-SZV</td>\n      <td>Szabadon választott</td>\n      <td>Szabadon választható</td>\n      <td>NaN</td>\n      <td>...</td>\n      <td>NaN</td>\n      <td>NaN</td>\n      <td>NaN</td>\n      <td>NaN</td>\n      <td>NaN</td>\n      <td>NaN</td>\n      <td>NaN</td>\n      <td>NaN</td>\n      <td>NaN</td>\n      <td>NaN</td>\n    </tr>\n    <tr>\n      <th>1249</th>\n      <td>1250</td>\n      <td>NaN</td>\n      <td>NaN</td>\n      <td>10.0</td>\n      <td>NaN</td>\n      <td>NaN</td>\n      <td>MK-SZV</td>\n      <td>Szabadon választott</td>\n      <td>Szabadon választható</td>\n      <td>NaN</td>\n      <td>...</td>\n      <td>NaN</td>\n      <td>NaN</td>\n      <td>NaN</td>\n      <td>NaN</td>\n      <td>NaN</td>\n      <td>NaN</td>\n      <td>NaN</td>\n      <td>NaN</td>\n      <td>NaN</td>\n      <td>NaN</td>\n    </tr>\n    <tr>\n      <th>1250</th>\n      <td>1251</td>\n      <td>NaN</td>\n      <td>NaN</td>\n      <td>20.0</td>\n      <td>NaN</td>\n      <td>NaN</td>\n      <td>MK-SZD</td>\n      <td>Szakdolgozat</td>\n      <td>Kötelező</td>\n      <td>NaN</td>\n      <td>...</td>\n      <td>NaN</td>\n      <td>NaN</td>\n      <td>NaN</td>\n      <td>NaN</td>\n      <td>NaN</td>\n      <td>NaN</td>\n      <td>NaN</td>\n      <td>NaN</td>\n      <td>NaN</td>\n      <td>NaN</td>\n    </tr>\n    <tr>\n      <th>1251</th>\n      <td>1252</td>\n      <td>NaN</td>\n      <td>NaN</td>\n      <td>20.0</td>\n      <td>NaN</td>\n      <td>NaN</td>\n      <td>MK-SZD</td>\n      <td>Szakdolgozat</td>\n      <td>Kötelező</td>\n      <td>NaN</td>\n      <td>...</td>\n      <td>NaN</td>\n      <td>NaN</td>\n      <td>NaN</td>\n      <td>NaN</td>\n      <td>NaN</td>\n      <td>NaN</td>\n      <td>NaN</td>\n      <td>NaN</td>\n      <td>NaN</td>\n      <td>NaN</td>\n    </tr>\n    <tr>\n      <th>1252</th>\n      <td>1253</td>\n      <td>NaN</td>\n      <td>NaN</td>\n      <td>NaN</td>\n      <td>NaN</td>\n      <td>NaN</td>\n      <td>MK-SZG</td>\n      <td>Szakmai gyakorlat</td>\n      <td>Kötelező</td>\n      <td>NaN</td>\n      <td>...</td>\n      <td>NaN</td>\n      <td>NaN</td>\n      <td>NaN</td>\n      <td>NaN</td>\n      <td>NaN</td>\n      <td>NaN</td>\n      <td>NaN</td>\n      <td>NaN</td>\n      <td>NaN</td>\n      <td>NaN</td>\n    </tr>\n  </tbody>\n</table>\n<p>1253 rows × 53 columns</p>\n</div>"
     },
     "execution_count": 210,
     "metadata": {},
     "output_type": "execute_result"
    }
   ],
   "source": [
    "df"
   ],
   "metadata": {
    "collapsed": false,
    "ExecuteTime": {
     "end_time": "2023-11-30T13:54:33.963219500Z",
     "start_time": "2023-11-30T13:54:33.922372900Z"
    }
   }
  },
  {
   "cell_type": "code",
   "execution_count": 211,
   "outputs": [
    {
     "name": "stdout",
     "output_type": "stream",
     "text": [
      "MK-SZG\n"
     ]
    }
   ],
   "source": [
    "for i in kodok:\n",
    "    print(i)\n",
    "    nedf = df[df['Tárgycsoport kódja'] == 'MK-SZV']\n",
    "    break"
   ],
   "metadata": {
    "collapsed": false,
    "ExecuteTime": {
     "end_time": "2023-11-30T13:54:34.192001100Z",
     "start_time": "2023-11-30T13:54:34.114450200Z"
    }
   }
  },
  {
   "cell_type": "code",
   "execution_count": 212,
   "outputs": [],
   "source": [
    "nedf\n",
    "kreditszam = set(nedf['Kredit'].to_list())"
   ],
   "metadata": {
    "collapsed": false,
    "ExecuteTime": {
     "end_time": "2023-11-30T13:54:34.306232200Z",
     "start_time": "2023-11-30T13:54:34.261106300Z"
    }
   }
  },
  {
   "cell_type": "code",
   "execution_count": 213,
   "outputs": [
    {
     "data": {
      "text/plain": "         0  Kód:  Név  Kredit  Ajánlott félév  Mintatanterv  \\\n607    608   NaN  NaN    10.0             NaN           NaN   \n608    609   NaN  NaN    10.0             NaN           NaN   \n609    610   NaN  NaN    10.0             NaN           NaN   \n610    611   NaN  NaN    10.0             NaN           NaN   \n611    612   NaN  NaN    10.0             NaN           NaN   \n...    ...   ...  ...     ...             ...           ...   \n1245  1246   NaN  NaN    10.0             NaN           NaN   \n1246  1247   NaN  NaN    10.0             NaN           NaN   \n1247  1248   NaN  NaN    10.0             NaN           NaN   \n1248  1249   NaN  NaN    10.0             NaN           NaN   \n1249  1250   NaN  NaN    10.0             NaN           NaN   \n\n     Tárgycsoport kódja    Tárgycsoport neve            Tárgytípus  Eredmény  \\\n607              MK-SZV  Szabadon választott  Szabadon választható       NaN   \n608              MK-SZV  Szabadon választott  Szabadon választható       NaN   \n609              MK-SZV  Szabadon választott  Szabadon választható       NaN   \n610              MK-SZV  Szabadon választott  Szabadon választható       NaN   \n611              MK-SZV  Szabadon választott  Szabadon választható       NaN   \n...                 ...                  ...                   ...       ...   \n1245             MK-SZV  Szabadon választott  Szabadon választható       NaN   \n1246             MK-SZV  Szabadon választott  Szabadon választható       NaN   \n1247             MK-SZV  Szabadon választott  Szabadon választható       NaN   \n1248             MK-SZV  Szabadon választott  Szabadon választható       NaN   \n1249             MK-SZV  Szabadon választott  Szabadon választható       NaN   \n\n      ...  Kredit.4 Ajánlott félév.4 Mintatanterv.4  Tárgycsoport kódja.4  \\\n607   ...       NaN              NaN            NaN                   NaN   \n608   ...       NaN              NaN            NaN                   NaN   \n609   ...       NaN              NaN            NaN                   NaN   \n610   ...       NaN              NaN            NaN                   NaN   \n611   ...       NaN              NaN            NaN                   NaN   \n...   ...       ...              ...            ...                   ...   \n1245  ...       NaN              NaN            NaN                   NaN   \n1246  ...       NaN              NaN            NaN                   NaN   \n1247  ...       NaN              NaN            NaN                   NaN   \n1248  ...       NaN              NaN            NaN                   NaN   \n1249  ...       NaN              NaN            NaN                   NaN   \n\n      Tárgycsoport neve.4  Tárgytípus.4 Eredmény.4 Felv.szám.4 Kód:.5 Név.5  \n607                   NaN           NaN        NaN         NaN    NaN   NaN  \n608                   NaN           NaN        NaN         NaN    NaN   NaN  \n609                   NaN           NaN        NaN         NaN    NaN   NaN  \n610                   NaN           NaN        NaN         NaN    NaN   NaN  \n611                   NaN           NaN        NaN         NaN    NaN   NaN  \n...                   ...           ...        ...         ...    ...   ...  \n1245                  NaN           NaN        NaN         NaN    NaN   NaN  \n1246                  NaN           NaN        NaN         NaN    NaN   NaN  \n1247                  NaN           NaN        NaN         NaN    NaN   NaN  \n1248                  NaN           NaN        NaN         NaN    NaN   NaN  \n1249                  NaN           NaN        NaN         NaN    NaN   NaN  \n\n[643 rows x 53 columns]",
      "text/html": "<div>\n<style scoped>\n    .dataframe tbody tr th:only-of-type {\n        vertical-align: middle;\n    }\n\n    .dataframe tbody tr th {\n        vertical-align: top;\n    }\n\n    .dataframe thead th {\n        text-align: right;\n    }\n</style>\n<table border=\"1\" class=\"dataframe\">\n  <thead>\n    <tr style=\"text-align: right;\">\n      <th></th>\n      <th>0</th>\n      <th>Kód:</th>\n      <th>Név</th>\n      <th>Kredit</th>\n      <th>Ajánlott félév</th>\n      <th>Mintatanterv</th>\n      <th>Tárgycsoport kódja</th>\n      <th>Tárgycsoport neve</th>\n      <th>Tárgytípus</th>\n      <th>Eredmény</th>\n      <th>...</th>\n      <th>Kredit.4</th>\n      <th>Ajánlott félév.4</th>\n      <th>Mintatanterv.4</th>\n      <th>Tárgycsoport kódja.4</th>\n      <th>Tárgycsoport neve.4</th>\n      <th>Tárgytípus.4</th>\n      <th>Eredmény.4</th>\n      <th>Felv.szám.4</th>\n      <th>Kód:.5</th>\n      <th>Név.5</th>\n    </tr>\n  </thead>\n  <tbody>\n    <tr>\n      <th>607</th>\n      <td>608</td>\n      <td>NaN</td>\n      <td>NaN</td>\n      <td>10.0</td>\n      <td>NaN</td>\n      <td>NaN</td>\n      <td>MK-SZV</td>\n      <td>Szabadon választott</td>\n      <td>Szabadon választható</td>\n      <td>NaN</td>\n      <td>...</td>\n      <td>NaN</td>\n      <td>NaN</td>\n      <td>NaN</td>\n      <td>NaN</td>\n      <td>NaN</td>\n      <td>NaN</td>\n      <td>NaN</td>\n      <td>NaN</td>\n      <td>NaN</td>\n      <td>NaN</td>\n    </tr>\n    <tr>\n      <th>608</th>\n      <td>609</td>\n      <td>NaN</td>\n      <td>NaN</td>\n      <td>10.0</td>\n      <td>NaN</td>\n      <td>NaN</td>\n      <td>MK-SZV</td>\n      <td>Szabadon választott</td>\n      <td>Szabadon választható</td>\n      <td>NaN</td>\n      <td>...</td>\n      <td>NaN</td>\n      <td>NaN</td>\n      <td>NaN</td>\n      <td>NaN</td>\n      <td>NaN</td>\n      <td>NaN</td>\n      <td>NaN</td>\n      <td>NaN</td>\n      <td>NaN</td>\n      <td>NaN</td>\n    </tr>\n    <tr>\n      <th>609</th>\n      <td>610</td>\n      <td>NaN</td>\n      <td>NaN</td>\n      <td>10.0</td>\n      <td>NaN</td>\n      <td>NaN</td>\n      <td>MK-SZV</td>\n      <td>Szabadon választott</td>\n      <td>Szabadon választható</td>\n      <td>NaN</td>\n      <td>...</td>\n      <td>NaN</td>\n      <td>NaN</td>\n      <td>NaN</td>\n      <td>NaN</td>\n      <td>NaN</td>\n      <td>NaN</td>\n      <td>NaN</td>\n      <td>NaN</td>\n      <td>NaN</td>\n      <td>NaN</td>\n    </tr>\n    <tr>\n      <th>610</th>\n      <td>611</td>\n      <td>NaN</td>\n      <td>NaN</td>\n      <td>10.0</td>\n      <td>NaN</td>\n      <td>NaN</td>\n      <td>MK-SZV</td>\n      <td>Szabadon választott</td>\n      <td>Szabadon választható</td>\n      <td>NaN</td>\n      <td>...</td>\n      <td>NaN</td>\n      <td>NaN</td>\n      <td>NaN</td>\n      <td>NaN</td>\n      <td>NaN</td>\n      <td>NaN</td>\n      <td>NaN</td>\n      <td>NaN</td>\n      <td>NaN</td>\n      <td>NaN</td>\n    </tr>\n    <tr>\n      <th>611</th>\n      <td>612</td>\n      <td>NaN</td>\n      <td>NaN</td>\n      <td>10.0</td>\n      <td>NaN</td>\n      <td>NaN</td>\n      <td>MK-SZV</td>\n      <td>Szabadon választott</td>\n      <td>Szabadon választható</td>\n      <td>NaN</td>\n      <td>...</td>\n      <td>NaN</td>\n      <td>NaN</td>\n      <td>NaN</td>\n      <td>NaN</td>\n      <td>NaN</td>\n      <td>NaN</td>\n      <td>NaN</td>\n      <td>NaN</td>\n      <td>NaN</td>\n      <td>NaN</td>\n    </tr>\n    <tr>\n      <th>...</th>\n      <td>...</td>\n      <td>...</td>\n      <td>...</td>\n      <td>...</td>\n      <td>...</td>\n      <td>...</td>\n      <td>...</td>\n      <td>...</td>\n      <td>...</td>\n      <td>...</td>\n      <td>...</td>\n      <td>...</td>\n      <td>...</td>\n      <td>...</td>\n      <td>...</td>\n      <td>...</td>\n      <td>...</td>\n      <td>...</td>\n      <td>...</td>\n      <td>...</td>\n      <td>...</td>\n    </tr>\n    <tr>\n      <th>1245</th>\n      <td>1246</td>\n      <td>NaN</td>\n      <td>NaN</td>\n      <td>10.0</td>\n      <td>NaN</td>\n      <td>NaN</td>\n      <td>MK-SZV</td>\n      <td>Szabadon választott</td>\n      <td>Szabadon választható</td>\n      <td>NaN</td>\n      <td>...</td>\n      <td>NaN</td>\n      <td>NaN</td>\n      <td>NaN</td>\n      <td>NaN</td>\n      <td>NaN</td>\n      <td>NaN</td>\n      <td>NaN</td>\n      <td>NaN</td>\n      <td>NaN</td>\n      <td>NaN</td>\n    </tr>\n    <tr>\n      <th>1246</th>\n      <td>1247</td>\n      <td>NaN</td>\n      <td>NaN</td>\n      <td>10.0</td>\n      <td>NaN</td>\n      <td>NaN</td>\n      <td>MK-SZV</td>\n      <td>Szabadon választott</td>\n      <td>Szabadon választható</td>\n      <td>NaN</td>\n      <td>...</td>\n      <td>NaN</td>\n      <td>NaN</td>\n      <td>NaN</td>\n      <td>NaN</td>\n      <td>NaN</td>\n      <td>NaN</td>\n      <td>NaN</td>\n      <td>NaN</td>\n      <td>NaN</td>\n      <td>NaN</td>\n    </tr>\n    <tr>\n      <th>1247</th>\n      <td>1248</td>\n      <td>NaN</td>\n      <td>NaN</td>\n      <td>10.0</td>\n      <td>NaN</td>\n      <td>NaN</td>\n      <td>MK-SZV</td>\n      <td>Szabadon választott</td>\n      <td>Szabadon választható</td>\n      <td>NaN</td>\n      <td>...</td>\n      <td>NaN</td>\n      <td>NaN</td>\n      <td>NaN</td>\n      <td>NaN</td>\n      <td>NaN</td>\n      <td>NaN</td>\n      <td>NaN</td>\n      <td>NaN</td>\n      <td>NaN</td>\n      <td>NaN</td>\n    </tr>\n    <tr>\n      <th>1248</th>\n      <td>1249</td>\n      <td>NaN</td>\n      <td>NaN</td>\n      <td>10.0</td>\n      <td>NaN</td>\n      <td>NaN</td>\n      <td>MK-SZV</td>\n      <td>Szabadon választott</td>\n      <td>Szabadon választható</td>\n      <td>NaN</td>\n      <td>...</td>\n      <td>NaN</td>\n      <td>NaN</td>\n      <td>NaN</td>\n      <td>NaN</td>\n      <td>NaN</td>\n      <td>NaN</td>\n      <td>NaN</td>\n      <td>NaN</td>\n      <td>NaN</td>\n      <td>NaN</td>\n    </tr>\n    <tr>\n      <th>1249</th>\n      <td>1250</td>\n      <td>NaN</td>\n      <td>NaN</td>\n      <td>10.0</td>\n      <td>NaN</td>\n      <td>NaN</td>\n      <td>MK-SZV</td>\n      <td>Szabadon választott</td>\n      <td>Szabadon választható</td>\n      <td>NaN</td>\n      <td>...</td>\n      <td>NaN</td>\n      <td>NaN</td>\n      <td>NaN</td>\n      <td>NaN</td>\n      <td>NaN</td>\n      <td>NaN</td>\n      <td>NaN</td>\n      <td>NaN</td>\n      <td>NaN</td>\n      <td>NaN</td>\n    </tr>\n  </tbody>\n</table>\n<p>643 rows × 53 columns</p>\n</div>"
     },
     "execution_count": 213,
     "metadata": {},
     "output_type": "execute_result"
    }
   ],
   "source": [
    "nedf"
   ],
   "metadata": {
    "collapsed": false,
    "ExecuteTime": {
     "end_time": "2023-11-30T13:54:34.402090700Z",
     "start_time": "2023-11-30T13:54:34.369696500Z"
    }
   }
  },
  {
   "cell_type": "code",
   "execution_count": 214,
   "outputs": [
    {
     "data": {
      "text/plain": "10.0"
     },
     "execution_count": 214,
     "metadata": {},
     "output_type": "execute_result"
    }
   ],
   "source": [
    "list(kreditszam)[0]"
   ],
   "metadata": {
    "collapsed": false,
    "ExecuteTime": {
     "end_time": "2023-11-30T13:54:34.583224800Z",
     "start_time": "2023-11-30T13:54:34.481171600Z"
    }
   }
  },
  {
   "cell_type": "code",
   "execution_count": 215,
   "outputs": [],
   "source": [
    "Eredmény = []\n",
    "for i in nedf.columns.to_list():\n",
    "    if 'Eredmény' in i:\n",
    "        Eredmény.append(i)"
   ],
   "metadata": {
    "collapsed": false,
    "ExecuteTime": {
     "end_time": "2023-11-30T13:54:34.809518Z",
     "start_time": "2023-11-30T13:54:34.794359Z"
    }
   }
  },
  {
   "cell_type": "code",
   "execution_count": 216,
   "outputs": [
    {
     "data": {
      "text/plain": "['Eredmény', 'Eredmény.1', 'Eredmény.2', 'Eredmény.3', 'Eredmény.4']"
     },
     "execution_count": 216,
     "metadata": {},
     "output_type": "execute_result"
    }
   ],
   "source": [
    "Eredmény"
   ],
   "metadata": {
    "collapsed": false,
    "ExecuteTime": {
     "end_time": "2023-11-30T13:54:35.464835100Z",
     "start_time": "2023-11-30T13:54:35.424763700Z"
    }
   }
  },
  {
   "cell_type": "code",
   "execution_count": 217,
   "outputs": [
    {
     "name": "stdout",
     "output_type": "stream",
     "text": [
      "[nan, nan, nan, nan, nan, nan, nan, nan, nan, nan, nan, nan, nan, nan, nan, nan, nan, nan, nan, nan, nan, nan, nan, nan, nan, nan, nan, nan, nan, nan, nan, nan, nan, nan, nan, nan, nan, nan, nan, nan, nan, nan, nan, nan, nan, nan, nan, nan, nan, nan, nan, nan, nan, nan, nan, nan, nan, nan, nan, nan, nan, nan, nan, nan, nan, nan, nan, nan, nan, nan, nan, nan, nan, nan, nan, nan, nan, nan, nan, nan, nan, nan, nan, nan, nan, nan, nan, nan, nan, nan, nan, nan, nan, nan, nan, nan, nan, nan, nan, nan, nan, nan, nan, nan, nan, nan, nan, nan, nan, nan, nan, nan, nan, nan, nan, nan, nan, nan, nan, nan, nan, nan, nan, nan, nan, nan, nan, nan, nan, nan, nan, nan, nan, nan, nan, nan, nan, nan, nan, nan, nan, nan, nan, nan, nan, nan, nan, nan, nan, nan, nan, nan, nan, nan, nan, nan, nan, nan, nan, nan, nan, nan, nan, nan, nan, nan, nan, nan, nan, nan, nan, nan, nan, nan, nan, nan, nan, nan, nan, nan, nan, nan, nan, nan, nan, nan, nan, nan, nan, nan, nan, nan, nan, nan, nan, nan, nan, nan, nan, nan, nan, nan, nan, nan, nan, nan, nan, nan, nan, nan, nan, nan, nan, nan, nan, nan, nan, nan, nan, nan, nan, nan, nan, nan, nan, nan, nan, nan, nan, nan, nan, nan, nan, nan, nan, nan, nan, nan, nan, nan, nan, nan, nan, nan, nan, nan, nan, nan, nan, nan, nan, nan, nan, nan, nan, nan, nan, nan, nan, nan, nan, nan, nan, nan, nan, nan, nan, nan, nan, nan, nan, nan, nan, nan, nan, nan, nan, nan, nan, nan, nan, nan, nan, nan, nan, nan, nan, nan, nan, nan, nan, nan, nan, nan, nan, nan, nan, nan, nan, nan, nan, nan, nan, nan, nan, nan, nan, nan, nan, nan, nan, nan, nan, nan, nan, nan, nan, nan, nan, nan, nan, nan, nan, nan, nan, nan, nan, nan, nan, nan, nan, nan, nan, nan, nan, nan, nan, nan, nan, nan, nan, nan, nan, nan, nan, nan, nan, nan, nan, nan, nan, nan, nan, nan, nan, nan, nan, nan, nan, nan, nan, nan, nan, nan, nan, nan, nan, nan, nan, nan, nan, nan, nan, nan, nan, nan, nan, nan, nan, nan, nan, nan, nan, nan, nan, nan, nan, nan, nan, nan, nan, nan, nan, nan, nan, nan, nan, nan, nan, nan, nan, nan, nan, nan, nan, nan, nan, nan, nan, nan, nan, nan, nan, nan, nan, nan, nan, nan, nan, nan, nan, nan, nan, nan, nan, nan, nan, nan, nan, nan, nan, nan, nan, nan, nan, nan, nan, nan, nan, nan, nan, nan, nan, nan, nan, nan, nan, nan, nan, nan, nan, nan, nan, nan, nan, nan, nan, nan, nan, nan, nan, nan, nan, nan, nan, nan, nan, nan, nan, nan, nan, nan, nan, nan, nan, nan, nan, nan, nan, nan, nan, nan, nan, nan, nan, nan, nan, nan, nan, nan, nan, nan, nan, nan, nan, nan, nan, nan, nan, nan, nan, nan, nan, nan, nan, nan, nan, nan, nan, nan, nan, nan, nan, nan, nan, nan, nan, nan, nan, nan, nan, nan, nan, nan, nan, nan, nan, nan, nan, nan, nan, nan, nan, nan, nan, nan, nan, nan, nan, nan, nan, nan, nan, nan, nan, nan, nan, nan, nan, nan, nan, nan, nan, nan, nan, nan, nan, nan, nan, nan, nan, nan, nan, nan, nan, nan, nan, nan, nan, nan, nan, nan, nan, nan, nan, nan, nan, nan, nan, nan, nan, nan, nan, nan, nan, nan, nan, nan, nan, nan, nan, nan, nan, nan, nan, nan, nan, nan, nan, nan, nan, nan, nan, nan, nan, nan, nan, nan, nan, nan, nan, nan, nan, nan, nan, nan, nan, nan, nan, nan, nan, nan, nan, nan, nan, nan, nan, nan, nan, nan, nan, nan, nan, nan, nan, nan, nan, nan, nan, nan, nan, nan, nan]\n",
      "[nan, nan, nan, nan, nan, nan, nan, nan, nan, nan, nan, nan, nan, nan, nan, nan, nan, nan, nan, nan, nan, nan, nan, nan, nan, nan, nan, nan, nan, nan, nan, nan, nan, nan, nan, nan, nan, nan, nan, nan, nan, nan, nan, nan, nan, nan, nan, nan, nan, nan, nan, nan, nan, nan, nan, nan, nan, nan, nan, nan, nan, nan, nan, nan, nan, nan, nan, nan, nan, nan, nan, nan, nan, nan, nan, nan, nan, nan, nan, nan, nan, nan, nan, nan, nan, nan, nan, nan, nan, nan, nan, nan, nan, nan, nan, nan, nan, nan, nan, nan, nan, nan, nan, nan, nan, nan, nan, nan, nan, nan, nan, nan, nan, nan, nan, nan, nan, nan, nan, nan, nan, nan, nan, nan, nan, nan, nan, nan, nan, nan, nan, nan, nan, nan, nan, nan, nan, nan, nan, nan, nan, nan, nan, nan, nan, nan, nan, nan, nan, nan, nan, nan, nan, nan, nan, nan, nan, nan, nan, nan, nan, nan, nan, nan, nan, nan, nan, nan, nan, nan, nan, nan, nan, nan, nan, nan, nan, nan, nan, nan, nan, nan, nan, nan, nan, nan, nan, nan, nan, nan, nan, nan, nan, nan, nan, nan, nan, nan, nan, nan, nan, nan, nan, nan, nan, nan, nan, nan, nan, nan, nan, nan, nan, nan, nan, nan, nan, nan, nan, nan, nan, nan, nan, nan, nan, nan, nan, nan, nan, nan, nan, nan, nan, nan, nan, nan, nan, nan, nan, nan, nan, nan, nan, nan, nan, nan, nan, nan, nan, nan, nan, nan, nan, nan, nan, nan, nan, nan, nan, nan, nan, nan, nan, nan, nan, nan, nan, nan, nan, nan, nan, nan, nan, nan, nan, nan, nan, nan, nan, nan, nan, nan, nan, nan, nan, nan, nan, nan, nan, nan, nan, nan, nan, nan, nan, nan, nan, nan, nan, nan, nan, nan, nan, nan, nan, nan, nan, nan, nan, nan, nan, nan, nan, nan, nan, nan, nan, nan, nan, nan, nan, nan, nan, nan, nan, nan, nan, nan, nan, nan, nan, nan, nan, nan, nan, nan, nan, nan, nan, nan, nan, nan, nan, nan, nan, nan, nan, nan, nan, nan, nan, nan, nan, nan, nan, nan, nan, nan, nan, nan, nan, nan, nan, nan, nan, nan, nan, nan, nan, nan, nan, nan, nan, nan, nan, nan, nan, nan, nan, nan, nan, nan, nan, nan, nan, nan, nan, nan, nan, nan, nan, nan, nan, nan, nan, nan, nan, nan, nan, nan, nan, nan, nan, nan, nan, nan, nan, nan, nan, nan, nan, nan, nan, nan, nan, nan, nan, nan, nan, nan, nan, nan, nan, nan, nan, nan, nan, nan, nan, nan, nan, nan, nan, nan, nan, nan, nan, nan, nan, nan, nan, nan, nan, nan, nan, nan, nan, nan, nan, nan, nan, nan, nan, nan, nan, nan, nan, nan, nan, nan, nan, nan, nan, nan, nan, nan, nan, nan, nan, nan, nan, nan, nan, nan, nan, nan, nan, nan, nan, nan, nan, nan, nan, nan, nan, nan, nan, nan, nan, nan, nan, nan, nan, nan, nan, nan, nan, nan, nan, nan, nan, nan, nan, nan, nan, nan, nan, nan, nan, nan, nan, nan, nan, nan, nan, nan, nan, nan, nan, nan, nan, nan, nan, nan, nan, nan, nan, nan, nan, nan, nan, nan, nan, nan, nan, nan, nan, nan, nan, nan, nan, nan, nan, nan, nan, nan, nan, nan, nan, nan, nan, nan, nan, nan, nan, nan, nan, nan, nan, nan, nan, nan, nan, nan, nan, nan, nan, nan, nan, nan, nan, nan, nan, nan, nan, nan, nan, nan, nan, nan, nan, nan, nan, nan, nan, nan, nan, nan, nan, nan, nan, nan, nan, nan, nan, nan, nan, nan, nan, nan, nan, nan, nan, nan, nan, nan, nan, nan, nan, nan, nan, nan, nan, nan, nan, nan, nan, nan, nan, nan, nan, nan, nan, nan, nan, nan, nan, nan, nan, nan, nan, nan, nan, nan, nan, nan, nan, nan, nan, nan, nan, nan, nan]\n",
      "[nan, nan, nan, nan, nan, nan, nan, nan, nan, nan, nan, nan, nan, nan, nan, nan, nan, nan, nan, nan, nan, nan, nan, nan, nan, nan, nan, nan, nan, nan, nan, nan, nan, nan, nan, nan, nan, nan, nan, nan, nan, nan, nan, nan, nan, nan, nan, nan, nan, nan, nan, nan, nan, nan, nan, nan, nan, nan, nan, nan, nan, nan, nan, nan, nan, nan, nan, nan, nan, nan, nan, nan, nan, nan, nan, nan, nan, nan, nan, nan, nan, nan, nan, nan, nan, nan, nan, nan, nan, nan, nan, nan, nan, nan, nan, nan, nan, nan, nan, nan, nan, nan, nan, nan, nan, nan, nan, nan, nan, nan, nan, nan, nan, nan, nan, nan, nan, nan, nan, nan, nan, nan, nan, nan, nan, nan, nan, nan, nan, nan, nan, nan, nan, nan, nan, nan, nan, nan, nan, nan, nan, nan, nan, nan, nan, nan, nan, nan, nan, nan, nan, nan, nan, nan, nan, nan, nan, nan, nan, nan, nan, nan, nan, nan, nan, nan, nan, nan, nan, nan, nan, nan, nan, nan, nan, nan, nan, nan, nan, nan, nan, nan, nan, nan, nan, nan, nan, nan, nan, nan, nan, nan, nan, nan, nan, nan, nan, nan, nan, nan, nan, nan, nan, nan, nan, nan, nan, nan, nan, nan, nan, nan, nan, nan, nan, nan, nan, nan, nan, nan, nan, nan, nan, nan, nan, nan, nan, nan, nan, nan, nan, nan, nan, nan, nan, nan, nan, nan, nan, nan, nan, nan, nan, nan, nan, nan, nan, nan, nan, nan, nan, nan, nan, nan, nan, nan, nan, nan, nan, nan, nan, nan, nan, nan, nan, nan, nan, nan, nan, nan, nan, nan, nan, nan, nan, nan, nan, nan, nan, nan, nan, nan, nan, nan, nan, nan, nan, nan, nan, nan, nan, nan, nan, nan, nan, nan, nan, nan, nan, nan, nan, nan, nan, nan, nan, nan, nan, nan, nan, nan, nan, nan, nan, nan, nan, nan, nan, nan, nan, nan, nan, nan, nan, nan, nan, nan, nan, nan, nan, nan, nan, nan, nan, nan, nan, nan, nan, nan, nan, nan, nan, nan, nan, nan, nan, nan, nan, nan, nan, nan, nan, nan, nan, nan, nan, nan, nan, nan, nan, nan, nan, nan, nan, nan, nan, nan, nan, nan, nan, nan, nan, nan, nan, nan, nan, nan, nan, nan, nan, nan, nan, nan, nan, nan, nan, nan, nan, nan, nan, nan, nan, nan, nan, nan, nan, nan, nan, nan, nan, nan, nan, nan, nan, nan, nan, nan, nan, nan, nan, nan, nan, nan, nan, nan, nan, nan, nan, nan, nan, nan, nan, nan, nan, nan, nan, nan, nan, nan, nan, nan, nan, nan, nan, nan, nan, nan, nan, nan, nan, nan, nan, nan, nan, nan, nan, nan, nan, nan, nan, nan, nan, nan, nan, nan, nan, nan, nan, nan, nan, nan, nan, nan, nan, nan, nan, nan, nan, nan, nan, nan, nan, nan, nan, nan, nan, nan, nan, nan, nan, nan, nan, nan, nan, nan, nan, nan, nan, nan, nan, nan, nan, nan, nan, nan, nan, nan, nan, nan, nan, nan, nan, nan, nan, nan, nan, nan, nan, nan, nan, nan, nan, nan, nan, nan, nan, nan, nan, nan, nan, nan, nan, nan, nan, nan, nan, nan, nan, nan, nan, nan, nan, nan, nan, nan, nan, nan, nan, nan, nan, nan, nan, nan, nan, nan, nan, nan, nan, nan, nan, nan, nan, nan, nan, nan, nan, nan, nan, nan, nan, nan, nan, nan, nan, nan, nan, nan, nan, nan, nan, nan, nan, nan, nan, nan, nan, nan, nan, nan, nan, nan, nan, nan, nan, nan, nan, nan, nan, nan, nan, nan, nan, nan, nan, nan, nan, nan, nan, nan, nan, nan, nan, nan, nan, nan, nan, nan, nan, nan, nan, nan, nan, nan, nan, nan, nan, nan, nan, nan, nan, nan, nan, nan, nan, nan, nan, nan, nan, nan, nan, nan, nan, nan, nan, nan, nan, nan, nan, nan, nan, nan, nan, nan, nan]\n",
      "[nan, nan, nan, nan, nan, nan, nan, nan, nan, nan, nan, nan, nan, nan, nan, nan, nan, nan, nan, nan, nan, nan, nan, nan, nan, nan, nan, nan, nan, nan, nan, nan, nan, nan, nan, nan, nan, nan, nan, nan, nan, nan, nan, nan, nan, nan, nan, nan, nan, nan, nan, nan, nan, nan, nan, nan, nan, nan, nan, nan, nan, nan, nan, nan, nan, nan, nan, nan, nan, nan, nan, nan, nan, nan, nan, nan, nan, nan, nan, nan, nan, nan, nan, nan, nan, nan, nan, nan, nan, nan, nan, nan, nan, nan, nan, nan, nan, nan, nan, nan, nan, nan, nan, nan, nan, nan, nan, nan, nan, nan, nan, nan, nan, nan, nan, nan, nan, nan, nan, nan, nan, nan, nan, nan, nan, nan, nan, nan, nan, nan, nan, nan, nan, nan, nan, nan, nan, nan, nan, nan, nan, nan, nan, nan, nan, nan, nan, nan, nan, nan, nan, nan, nan, nan, nan, nan, nan, nan, nan, nan, nan, nan, nan, nan, nan, nan, nan, nan, nan, nan, nan, nan, nan, nan, nan, nan, nan, nan, nan, nan, nan, nan, nan, nan, nan, nan, nan, nan, nan, nan, nan, nan, nan, nan, nan, nan, nan, nan, nan, nan, nan, nan, nan, nan, nan, nan, nan, nan, nan, nan, nan, nan, nan, nan, nan, nan, nan, nan, nan, nan, nan, nan, nan, nan, nan, nan, nan, nan, nan, nan, nan, nan, nan, nan, nan, nan, nan, nan, nan, nan, nan, nan, nan, nan, nan, nan, nan, nan, nan, nan, nan, nan, nan, nan, nan, nan, nan, nan, nan, nan, nan, nan, nan, nan, nan, nan, nan, nan, nan, nan, nan, nan, nan, nan, nan, nan, nan, nan, nan, nan, nan, nan, nan, nan, nan, nan, nan, nan, nan, nan, nan, nan, nan, nan, nan, nan, nan, nan, nan, nan, nan, nan, nan, nan, nan, nan, nan, nan, nan, nan, nan, nan, nan, nan, nan, nan, nan, nan, nan, nan, nan, nan, nan, nan, nan, nan, nan, nan, nan, nan, nan, nan, nan, nan, nan, nan, nan, nan, nan, nan, nan, nan, nan, nan, nan, nan, nan, nan, nan, nan, nan, nan, nan, nan, nan, nan, nan, nan, nan, nan, nan, nan, nan, nan, nan, nan, nan, nan, nan, nan, nan, nan, nan, nan, nan, nan, nan, nan, nan, nan, nan, nan, nan, nan, nan, nan, nan, nan, nan, nan, nan, nan, nan, nan, nan, nan, nan, nan, nan, nan, nan, nan, nan, nan, nan, nan, nan, nan, nan, nan, nan, nan, nan, nan, nan, nan, nan, nan, nan, nan, nan, nan, nan, nan, nan, nan, nan, nan, nan, nan, nan, nan, nan, nan, nan, nan, nan, nan, nan, nan, nan, nan, nan, nan, nan, nan, nan, nan, nan, nan, nan, nan, nan, nan, nan, nan, nan, nan, nan, nan, nan, nan, nan, nan, nan, nan, nan, nan, nan, nan, nan, nan, nan, nan, nan, nan, nan, nan, nan, nan, nan, nan, nan, nan, nan, nan, nan, nan, nan, nan, nan, nan, nan, nan, nan, nan, nan, nan, nan, nan, nan, nan, nan, nan, nan, nan, nan, nan, nan, nan, nan, nan, nan, nan, nan, nan, nan, nan, nan, nan, nan, nan, nan, nan, nan, nan, nan, nan, nan, nan, nan, nan, nan, nan, nan, nan, nan, nan, nan, nan, nan, nan, nan, nan, nan, nan, nan, nan, nan, nan, nan, nan, nan, nan, nan, nan, nan, nan, nan, nan, nan, nan, nan, nan, nan, nan, nan, nan, nan, nan, nan, nan, nan, nan, nan, nan, nan, nan, nan, nan, nan, nan, nan, nan, nan, nan, nan, nan, nan, nan, nan, nan, nan, nan, nan, nan, nan, nan, nan, nan, nan, nan, nan, nan, nan, nan, nan, nan, nan, nan, nan, nan, nan, nan, nan, nan, nan, nan, nan, nan, nan, nan, nan, nan, nan, nan, nan, nan, nan, nan, nan, nan, nan, nan, nan, nan, nan, nan, nan, nan, nan, nan, nan]\n",
      "[nan, nan, nan, nan, nan, nan, nan, nan, nan, nan, nan, nan, nan, nan, nan, nan, nan, nan, nan, nan, nan, nan, nan, nan, nan, nan, nan, nan, nan, nan, nan, nan, nan, nan, nan, nan, nan, nan, nan, nan, nan, nan, nan, nan, nan, nan, nan, nan, nan, nan, nan, nan, nan, nan, nan, nan, nan, nan, nan, nan, nan, nan, nan, nan, nan, nan, nan, nan, nan, nan, nan, nan, nan, nan, nan, nan, nan, nan, nan, nan, nan, nan, nan, nan, nan, nan, nan, nan, nan, nan, nan, nan, nan, nan, nan, nan, nan, nan, nan, nan, nan, nan, nan, nan, nan, nan, nan, nan, nan, nan, nan, nan, nan, nan, nan, nan, nan, nan, nan, nan, nan, nan, nan, nan, nan, nan, nan, nan, nan, nan, nan, nan, nan, nan, nan, nan, nan, nan, nan, nan, nan, nan, nan, nan, nan, nan, nan, nan, nan, nan, nan, nan, nan, nan, nan, nan, nan, nan, nan, nan, nan, nan, nan, nan, nan, nan, nan, nan, nan, nan, nan, nan, nan, nan, nan, nan, nan, nan, nan, nan, nan, nan, nan, nan, nan, nan, nan, nan, nan, nan, nan, nan, nan, nan, nan, nan, nan, nan, nan, nan, nan, nan, nan, nan, nan, nan, nan, nan, nan, nan, nan, nan, nan, nan, nan, nan, nan, nan, nan, nan, nan, nan, nan, nan, nan, nan, nan, nan, nan, nan, nan, nan, nan, nan, nan, nan, nan, nan, nan, nan, nan, nan, nan, nan, nan, nan, nan, nan, nan, nan, nan, nan, nan, nan, nan, nan, nan, nan, nan, nan, nan, nan, nan, nan, nan, nan, nan, nan, nan, nan, nan, nan, nan, nan, nan, nan, nan, nan, nan, nan, nan, nan, nan, nan, nan, nan, nan, nan, nan, nan, nan, nan, nan, nan, nan, nan, nan, nan, nan, nan, nan, nan, nan, nan, nan, nan, nan, nan, nan, nan, nan, nan, nan, nan, nan, nan, nan, nan, nan, nan, nan, nan, nan, nan, nan, nan, nan, nan, nan, nan, nan, nan, nan, nan, nan, nan, nan, nan, nan, nan, nan, nan, nan, nan, nan, nan, nan, nan, nan, nan, nan, nan, nan, nan, nan, nan, nan, nan, nan, nan, nan, nan, nan, nan, nan, nan, nan, nan, nan, nan, nan, nan, nan, nan, nan, nan, nan, nan, nan, nan, nan, nan, nan, nan, nan, nan, nan, nan, nan, nan, nan, nan, nan, nan, nan, nan, nan, nan, nan, nan, nan, nan, nan, nan, nan, nan, nan, nan, nan, nan, nan, nan, nan, nan, nan, nan, nan, nan, nan, nan, nan, nan, nan, nan, nan, nan, nan, nan, nan, nan, nan, nan, nan, nan, nan, nan, nan, nan, nan, nan, nan, nan, nan, nan, nan, nan, nan, nan, nan, nan, nan, nan, nan, nan, nan, nan, nan, nan, nan, nan, nan, nan, nan, nan, nan, nan, nan, nan, nan, nan, nan, nan, nan, nan, nan, nan, nan, nan, nan, nan, nan, nan, nan, nan, nan, nan, nan, nan, nan, nan, nan, nan, nan, nan, nan, nan, nan, nan, nan, nan, nan, nan, nan, nan, nan, nan, nan, nan, nan, nan, nan, nan, nan, nan, nan, nan, nan, nan, nan, nan, nan, nan, nan, nan, nan, nan, nan, nan, nan, nan, nan, nan, nan, nan, nan, nan, nan, nan, nan, nan, nan, nan, nan, nan, nan, nan, nan, nan, nan, nan, nan, nan, nan, nan, nan, nan, nan, nan, nan, nan, nan, nan, nan, nan, nan, nan, nan, nan, nan, nan, nan, nan, nan, nan, nan, nan, nan, nan, nan, nan, nan, nan, nan, nan, nan, nan, nan, nan, nan, nan, nan, nan, nan, nan, nan, nan, nan, nan, nan, nan, nan, nan, nan, nan, nan, nan, nan, nan, nan, nan, nan, nan, nan, nan, nan, nan, nan, nan, nan, nan, nan, nan, nan, nan, nan, nan, nan, nan, nan, nan, nan, nan, nan, nan, nan, nan, nan, nan, nan, nan, nan, nan, nan]\n"
     ]
    }
   ],
   "source": [
    "for i in Eredmény:\n",
    "    print(nedf[i].to_list())"
   ],
   "metadata": {
    "collapsed": false,
    "ExecuteTime": {
     "end_time": "2023-11-30T13:54:35.688406Z",
     "start_time": "2023-11-30T13:54:35.678571Z"
    }
   }
  },
  {
   "cell_type": "code",
   "execution_count": 218,
   "outputs": [
    {
     "data": {
      "text/plain": "{'MK-ALA',\n 'MK-DSZ',\n 'MK-SZD',\n 'MK-SZG',\n 'MK-SZT',\n 'MK-SZV',\n 'Tárgycsoport kódja'}"
     },
     "execution_count": 218,
     "metadata": {},
     "output_type": "execute_result"
    }
   ],
   "source": [
    "set(pd.read_excel('tanterv.xlsx', header=0)['Unnamed: 5'].to_list())"
   ],
   "metadata": {
    "collapsed": false,
    "ExecuteTime": {
     "end_time": "2023-11-30T13:54:36.861874900Z",
     "start_time": "2023-11-30T13:54:35.844130Z"
    }
   }
  },
  {
   "cell_type": "code",
   "execution_count": 219,
   "outputs": [
    {
     "data": {
      "text/plain": "         0  Kód:  Név  Kredit  Ajánlott félév  Mintatanterv  \\\n0        1   0.0  0.0    46.0             0.0           0.0   \n1        2   0.0  0.0    46.0             0.0           0.0   \n2        3   0.0  0.0    46.0             0.0           0.0   \n3        4   0.0  0.0    46.0             0.0           0.0   \n4        5   0.0  0.0    46.0             0.0           0.0   \n...    ...   ...  ...     ...             ...           ...   \n1248  1249   0.0  0.0    10.0             0.0           0.0   \n1249  1250   0.0  0.0    10.0             0.0           0.0   \n1250  1251   0.0  0.0    20.0             0.0           0.0   \n1251  1252   0.0  0.0    20.0             0.0           0.0   \n1252  1253   0.0  0.0     0.0             0.0           0.0   \n\n     Tárgycsoport kódja                                  Tárgycsoport neve  \\\n0                MK-ALA  Köztelezően teljesítendő matematika és számítá...   \n1                MK-ALA  Köztelezően teljesítendő matematika és számítá...   \n2                MK-ALA  Köztelezően teljesítendő matematika és számítá...   \n3                MK-ALA  Köztelezően teljesítendő matematika és számítá...   \n4                MK-ALA  Köztelezően teljesítendő matematika és számítá...   \n...                 ...                                                ...   \n1248             MK-SZV                                Szabadon választott   \n1249             MK-SZV                                Szabadon választott   \n1250             MK-SZD                                       Szakdolgozat   \n1251             MK-SZD                                       Szakdolgozat   \n1252             MK-SZG                                  Szakmai gyakorlat   \n\n                Tárgytípus  Eredmény  ...  Kredit.4 Ajánlott félév.4  \\\n0                 Kötelező       0.0  ...       0.0              0.0   \n1                 Kötelező       0.0  ...       0.0              0.0   \n2                 Kötelező       0.0  ...       0.0              0.0   \n3                 Kötelező       0.0  ...       0.0              0.0   \n4                 Kötelező       0.0  ...       0.0              0.0   \n...                    ...       ...  ...       ...              ...   \n1248  Szabadon választható       0.0  ...       0.0              0.0   \n1249  Szabadon választható       0.0  ...       0.0              0.0   \n1250              Kötelező       0.0  ...       0.0              0.0   \n1251              Kötelező       0.0  ...       0.0              0.0   \n1252              Kötelező       0.0  ...       0.0              0.0   \n\n     Mintatanterv.4  Tárgycsoport kódja.4  Tárgycsoport neve.4  Tárgytípus.4  \\\n0               0.0                     0                    0             0   \n1               0.0                     0                    0             0   \n2               0.0                     0                    0             0   \n3               0.0                     0                    0             0   \n4               0.0                     0                    0             0   \n...             ...                   ...                  ...           ...   \n1248            0.0                     0                    0             0   \n1249            0.0                     0                    0             0   \n1250            0.0                     0                    0             0   \n1251            0.0                     0                    0             0   \n1252            0.0                     0                    0             0   \n\n     Eredmény.4 Felv.szám.4 Kód:.5 Név.5  \n0             0         0.0      0     0  \n1             0         0.0      0     0  \n2             0         0.0      0     0  \n3             0         0.0      0     0  \n4             0         0.0      0     0  \n...         ...         ...    ...   ...  \n1248          0         0.0      0     0  \n1249          0         0.0      0     0  \n1250          0         0.0      0     0  \n1251          0         0.0      0     0  \n1252          0         0.0      0     0  \n\n[1253 rows x 53 columns]",
      "text/html": "<div>\n<style scoped>\n    .dataframe tbody tr th:only-of-type {\n        vertical-align: middle;\n    }\n\n    .dataframe tbody tr th {\n        vertical-align: top;\n    }\n\n    .dataframe thead th {\n        text-align: right;\n    }\n</style>\n<table border=\"1\" class=\"dataframe\">\n  <thead>\n    <tr style=\"text-align: right;\">\n      <th></th>\n      <th>0</th>\n      <th>Kód:</th>\n      <th>Név</th>\n      <th>Kredit</th>\n      <th>Ajánlott félév</th>\n      <th>Mintatanterv</th>\n      <th>Tárgycsoport kódja</th>\n      <th>Tárgycsoport neve</th>\n      <th>Tárgytípus</th>\n      <th>Eredmény</th>\n      <th>...</th>\n      <th>Kredit.4</th>\n      <th>Ajánlott félév.4</th>\n      <th>Mintatanterv.4</th>\n      <th>Tárgycsoport kódja.4</th>\n      <th>Tárgycsoport neve.4</th>\n      <th>Tárgytípus.4</th>\n      <th>Eredmény.4</th>\n      <th>Felv.szám.4</th>\n      <th>Kód:.5</th>\n      <th>Név.5</th>\n    </tr>\n  </thead>\n  <tbody>\n    <tr>\n      <th>0</th>\n      <td>1</td>\n      <td>0.0</td>\n      <td>0.0</td>\n      <td>46.0</td>\n      <td>0.0</td>\n      <td>0.0</td>\n      <td>MK-ALA</td>\n      <td>Köztelezően teljesítendő matematika és számítá...</td>\n      <td>Kötelező</td>\n      <td>0.0</td>\n      <td>...</td>\n      <td>0.0</td>\n      <td>0.0</td>\n      <td>0.0</td>\n      <td>0</td>\n      <td>0</td>\n      <td>0</td>\n      <td>0</td>\n      <td>0.0</td>\n      <td>0</td>\n      <td>0</td>\n    </tr>\n    <tr>\n      <th>1</th>\n      <td>2</td>\n      <td>0.0</td>\n      <td>0.0</td>\n      <td>46.0</td>\n      <td>0.0</td>\n      <td>0.0</td>\n      <td>MK-ALA</td>\n      <td>Köztelezően teljesítendő matematika és számítá...</td>\n      <td>Kötelező</td>\n      <td>0.0</td>\n      <td>...</td>\n      <td>0.0</td>\n      <td>0.0</td>\n      <td>0.0</td>\n      <td>0</td>\n      <td>0</td>\n      <td>0</td>\n      <td>0</td>\n      <td>0.0</td>\n      <td>0</td>\n      <td>0</td>\n    </tr>\n    <tr>\n      <th>2</th>\n      <td>3</td>\n      <td>0.0</td>\n      <td>0.0</td>\n      <td>46.0</td>\n      <td>0.0</td>\n      <td>0.0</td>\n      <td>MK-ALA</td>\n      <td>Köztelezően teljesítendő matematika és számítá...</td>\n      <td>Kötelező</td>\n      <td>0.0</td>\n      <td>...</td>\n      <td>0.0</td>\n      <td>0.0</td>\n      <td>0.0</td>\n      <td>0</td>\n      <td>0</td>\n      <td>0</td>\n      <td>0</td>\n      <td>0.0</td>\n      <td>0</td>\n      <td>0</td>\n    </tr>\n    <tr>\n      <th>3</th>\n      <td>4</td>\n      <td>0.0</td>\n      <td>0.0</td>\n      <td>46.0</td>\n      <td>0.0</td>\n      <td>0.0</td>\n      <td>MK-ALA</td>\n      <td>Köztelezően teljesítendő matematika és számítá...</td>\n      <td>Kötelező</td>\n      <td>0.0</td>\n      <td>...</td>\n      <td>0.0</td>\n      <td>0.0</td>\n      <td>0.0</td>\n      <td>0</td>\n      <td>0</td>\n      <td>0</td>\n      <td>0</td>\n      <td>0.0</td>\n      <td>0</td>\n      <td>0</td>\n    </tr>\n    <tr>\n      <th>4</th>\n      <td>5</td>\n      <td>0.0</td>\n      <td>0.0</td>\n      <td>46.0</td>\n      <td>0.0</td>\n      <td>0.0</td>\n      <td>MK-ALA</td>\n      <td>Köztelezően teljesítendő matematika és számítá...</td>\n      <td>Kötelező</td>\n      <td>0.0</td>\n      <td>...</td>\n      <td>0.0</td>\n      <td>0.0</td>\n      <td>0.0</td>\n      <td>0</td>\n      <td>0</td>\n      <td>0</td>\n      <td>0</td>\n      <td>0.0</td>\n      <td>0</td>\n      <td>0</td>\n    </tr>\n    <tr>\n      <th>...</th>\n      <td>...</td>\n      <td>...</td>\n      <td>...</td>\n      <td>...</td>\n      <td>...</td>\n      <td>...</td>\n      <td>...</td>\n      <td>...</td>\n      <td>...</td>\n      <td>...</td>\n      <td>...</td>\n      <td>...</td>\n      <td>...</td>\n      <td>...</td>\n      <td>...</td>\n      <td>...</td>\n      <td>...</td>\n      <td>...</td>\n      <td>...</td>\n      <td>...</td>\n      <td>...</td>\n    </tr>\n    <tr>\n      <th>1248</th>\n      <td>1249</td>\n      <td>0.0</td>\n      <td>0.0</td>\n      <td>10.0</td>\n      <td>0.0</td>\n      <td>0.0</td>\n      <td>MK-SZV</td>\n      <td>Szabadon választott</td>\n      <td>Szabadon választható</td>\n      <td>0.0</td>\n      <td>...</td>\n      <td>0.0</td>\n      <td>0.0</td>\n      <td>0.0</td>\n      <td>0</td>\n      <td>0</td>\n      <td>0</td>\n      <td>0</td>\n      <td>0.0</td>\n      <td>0</td>\n      <td>0</td>\n    </tr>\n    <tr>\n      <th>1249</th>\n      <td>1250</td>\n      <td>0.0</td>\n      <td>0.0</td>\n      <td>10.0</td>\n      <td>0.0</td>\n      <td>0.0</td>\n      <td>MK-SZV</td>\n      <td>Szabadon választott</td>\n      <td>Szabadon választható</td>\n      <td>0.0</td>\n      <td>...</td>\n      <td>0.0</td>\n      <td>0.0</td>\n      <td>0.0</td>\n      <td>0</td>\n      <td>0</td>\n      <td>0</td>\n      <td>0</td>\n      <td>0.0</td>\n      <td>0</td>\n      <td>0</td>\n    </tr>\n    <tr>\n      <th>1250</th>\n      <td>1251</td>\n      <td>0.0</td>\n      <td>0.0</td>\n      <td>20.0</td>\n      <td>0.0</td>\n      <td>0.0</td>\n      <td>MK-SZD</td>\n      <td>Szakdolgozat</td>\n      <td>Kötelező</td>\n      <td>0.0</td>\n      <td>...</td>\n      <td>0.0</td>\n      <td>0.0</td>\n      <td>0.0</td>\n      <td>0</td>\n      <td>0</td>\n      <td>0</td>\n      <td>0</td>\n      <td>0.0</td>\n      <td>0</td>\n      <td>0</td>\n    </tr>\n    <tr>\n      <th>1251</th>\n      <td>1252</td>\n      <td>0.0</td>\n      <td>0.0</td>\n      <td>20.0</td>\n      <td>0.0</td>\n      <td>0.0</td>\n      <td>MK-SZD</td>\n      <td>Szakdolgozat</td>\n      <td>Kötelező</td>\n      <td>0.0</td>\n      <td>...</td>\n      <td>0.0</td>\n      <td>0.0</td>\n      <td>0.0</td>\n      <td>0</td>\n      <td>0</td>\n      <td>0</td>\n      <td>0</td>\n      <td>0.0</td>\n      <td>0</td>\n      <td>0</td>\n    </tr>\n    <tr>\n      <th>1252</th>\n      <td>1253</td>\n      <td>0.0</td>\n      <td>0.0</td>\n      <td>0.0</td>\n      <td>0.0</td>\n      <td>0.0</td>\n      <td>MK-SZG</td>\n      <td>Szakmai gyakorlat</td>\n      <td>Kötelező</td>\n      <td>0.0</td>\n      <td>...</td>\n      <td>0.0</td>\n      <td>0.0</td>\n      <td>0.0</td>\n      <td>0</td>\n      <td>0</td>\n      <td>0</td>\n      <td>0</td>\n      <td>0.0</td>\n      <td>0</td>\n      <td>0</td>\n    </tr>\n  </tbody>\n</table>\n<p>1253 rows × 53 columns</p>\n</div>"
     },
     "execution_count": 219,
     "metadata": {},
     "output_type": "execute_result"
    }
   ],
   "source": [
    "df = pd.read_csv('valami.csv')\n",
    "df = df.fillna(0)\n",
    "df\n",
    "# ['Eredmény', 'Eredmény.1', 'Eredmény.2', 'Eredmény.3', 'Eredmény.4']"
   ],
   "metadata": {
    "collapsed": false,
    "ExecuteTime": {
     "end_time": "2023-11-30T13:54:36.959163100Z",
     "start_time": "2023-11-30T13:54:36.861874900Z"
    }
   }
  },
  {
   "cell_type": "code",
   "execution_count": 220,
   "outputs": [
    {
     "data": {
      "text/plain": "0"
     },
     "execution_count": 220,
     "metadata": {},
     "output_type": "execute_result"
    }
   ],
   "source": [
    "df.iloc[0]['Eredmény.3']"
   ],
   "metadata": {
    "collapsed": false,
    "ExecuteTime": {
     "end_time": "2023-11-30T13:54:36.960663300Z",
     "start_time": "2023-11-30T13:54:36.917732400Z"
    }
   }
  },
  {
   "cell_type": "code",
   "execution_count": 221,
   "outputs": [],
   "source": [
    "# eredmenyek0 = set(df[df['Eredmény']!=0.0][df['Név']!=0.0][df['Kredit']!=0.0][['Eredmény','Név','Kredit']][df['Eredmény'].str.contains('Elégtelen')==False]['Név'])"
   ],
   "metadata": {
    "collapsed": false,
    "ExecuteTime": {
     "end_time": "2023-11-30T13:54:36.960663300Z",
     "start_time": "2023-11-30T13:54:36.929074600Z"
    }
   }
  },
  {
   "cell_type": "code",
   "execution_count": 222,
   "outputs": [],
   "source": [
    "# eredmenyek1 =set(df[df['Eredmény.1']!=0.0][df['Név.1']!=0.0][df['Kredit.1']!=0.0][['Eredmény.1','Név.1','Kredit.1']][df['Eredmény.1'].str.contains('Elégtelen')==False]['Név.1'])\n"
   ],
   "metadata": {
    "collapsed": false,
    "ExecuteTime": {
     "end_time": "2023-11-30T13:54:37.193988300Z",
     "start_time": "2023-11-30T13:54:37.189955700Z"
    }
   }
  },
  {
   "cell_type": "code",
   "execution_count": 223,
   "outputs": [
    {
     "name": "stderr",
     "output_type": "stream",
     "text": [
      "C:\\Users\\adam0\\AppData\\Local\\Temp\\ipykernel_22264\\3259975471.py:1: UserWarning: Boolean Series key will be reindexed to match DataFrame index.\n",
      "  eredmenyek2 = set(df[df['Eredmény.2'] != 0.0][df['Név.2'] != 0.0][df['Kredit.2'] != 0.0][\n",
      "C:\\Users\\adam0\\AppData\\Local\\Temp\\ipykernel_22264\\3259975471.py:1: UserWarning: Boolean Series key will be reindexed to match DataFrame index.\n",
      "  eredmenyek2 = set(df[df['Eredmény.2'] != 0.0][df['Név.2'] != 0.0][df['Kredit.2'] != 0.0][\n",
      "C:\\Users\\adam0\\AppData\\Local\\Temp\\ipykernel_22264\\3259975471.py:1: UserWarning: Boolean Series key will be reindexed to match DataFrame index.\n",
      "  eredmenyek2 = set(df[df['Eredmény.2'] != 0.0][df['Név.2'] != 0.0][df['Kredit.2'] != 0.0][\n"
     ]
    }
   ],
   "source": [
    "eredmenyek2 = set(df[df['Eredmény.2'] != 0.0][df['Név.2'] != 0.0][df['Kredit.2'] != 0.0][\n",
    "                      ['Eredmény.2', 'Név.2', 'Kredit.2', 'Kód:.2']][\n",
    "                      df['Eredmény.2'].str.contains('Elégtelen') == False]['Kód:.2'])\n"
   ],
   "metadata": {
    "collapsed": false,
    "ExecuteTime": {
     "end_time": "2023-11-30T13:54:37.516718Z",
     "start_time": "2023-11-30T13:54:37.484996400Z"
    }
   }
  },
  {
   "cell_type": "code",
   "execution_count": 224,
   "outputs": [
    {
     "name": "stderr",
     "output_type": "stream",
     "text": [
      "C:\\Users\\adam0\\AppData\\Local\\Temp\\ipykernel_22264\\887554684.py:1: UserWarning: Boolean Series key will be reindexed to match DataFrame index.\n",
      "  eredmenyek3 = set(df[df['Eredmény.3'] != 0.0][df['Név.3'] != 0.0][df['Kredit.3'] != 0.0][\n",
      "C:\\Users\\adam0\\AppData\\Local\\Temp\\ipykernel_22264\\887554684.py:1: UserWarning: Boolean Series key will be reindexed to match DataFrame index.\n",
      "  eredmenyek3 = set(df[df['Eredmény.3'] != 0.0][df['Név.3'] != 0.0][df['Kredit.3'] != 0.0][\n",
      "C:\\Users\\adam0\\AppData\\Local\\Temp\\ipykernel_22264\\887554684.py:1: UserWarning: Boolean Series key will be reindexed to match DataFrame index.\n",
      "  eredmenyek3 = set(df[df['Eredmény.3'] != 0.0][df['Név.3'] != 0.0][df['Kredit.3'] != 0.0][\n"
     ]
    }
   ],
   "source": [
    "eredmenyek3 = set(df[df['Eredmény.3'] != 0.0][df['Név.3'] != 0.0][df['Kredit.3'] != 0.0][\n",
    "                      ['Eredmény.3', 'Név.3', 'Kredit.3', 'Kód:.3']][\n",
    "                      df['Eredmény.3'].str.contains('Elégtelen') == False]['Kód:.3'])\n"
   ],
   "metadata": {
    "collapsed": false,
    "ExecuteTime": {
     "end_time": "2023-11-30T13:54:38.017831800Z",
     "start_time": "2023-11-30T13:54:37.993719100Z"
    }
   }
  },
  {
   "cell_type": "code",
   "execution_count": 225,
   "outputs": [
    {
     "name": "stderr",
     "output_type": "stream",
     "text": [
      "C:\\Users\\adam0\\AppData\\Local\\Temp\\ipykernel_22264\\1086343178.py:1: UserWarning: Boolean Series key will be reindexed to match DataFrame index.\n",
      "  df[df['Eredmény.4'] != 0.0][df['Név.4'] != 0.0][df['Kredit.4'] != 0.0][['Eredmény.4', 'Név.4', 'Kredit.4']]\n",
      "C:\\Users\\adam0\\AppData\\Local\\Temp\\ipykernel_22264\\1086343178.py:1: UserWarning: Boolean Series key will be reindexed to match DataFrame index.\n",
      "  df[df['Eredmény.4'] != 0.0][df['Név.4'] != 0.0][df['Kredit.4'] != 0.0][['Eredmény.4', 'Név.4', 'Kredit.4']]\n"
     ]
    },
    {
     "data": {
      "text/plain": "                                    Eredmény.4  \\\n191       Kollokvium Elégséges (2) 2023.06.07.   \n192       Kollokvium Elégséges (2) 2023.06.07.   \n193         Kollokvium Közepes (3) 2022.06.14.   \n194         Kollokvium Közepes (3) 2022.06.14.   \n195      Gyakorlati jegy Jeles (5) 2022.12.09.   \n196      Gyakorlati jegy Jeles (5) 2022.12.09.   \n197  Gyakorlati jegy Elégtelen (1) 2023.05.11.   \n199      Gyakorlati jegy Jeles (5) 2021.05.29.   \n205       Kollokvium Elégséges (2) 2022.01.05.   \n206       Kollokvium Elégséges (2) 2022.01.05.   \n217         Kollokvium Közepes (3) 2022.06.09.   \n223    Gyakorlati jegy Közepes (3) 2021.12.17.   \n224    Gyakorlati jegy Közepes (3) 2021.12.17.   \n231         Gyakorlati jegy Jó (4) 2023.05.12.   \n232         Gyakorlati jegy Jó (4) 2023.05.12.   \n233  Gyakorlati jegy Elégtelen (1) 2023.05.12.   \n239    Gyakorlati jegy Közepes (3) 2022.12.09.   \n241         Kollokvium Közepes (3) 2023.01.09.   \n242         Kollokvium Közepes (3) 2023.01.09.   \n244      Gyakorlati jegy Jeles (5) 2022.05.16.   \n248  Gyakorlati jegy Elégtelen (1) 2022.12.08.   \n249         Kollokvium Közepes (3) 2022.12.31.   \n251    Gyakorlati jegy Közepes (3) 2022.05.16.   \n252    Gyakorlati jegy Közepes (3) 2022.05.16.   \n257  Gyakorlati jegy Elégséges (2) 2021.05.23.   \n261           Kollokvium Jeles (5) 2021.06.02.   \n262      Gyakorlati jegy Jeles (5) 2023.05.15.   \n268    Gyakorlati jegy Közepes (3) 2022.12.19.   \n269  Gyakorlati jegy Elégséges (2) 2021.12.20.   \n270  Gyakorlati jegy Elégséges (2) 2021.12.20.   \n275       Kollokvium Elégséges (2) 2023.01.17.   \n283           Kollokvium Jeles (5) 2023.06.06.   \n284         Kollokvium Közepes (3) 2021.12.21.   \n285         Kollokvium Közepes (3) 2021.12.21.   \n287           Kollokvium Jeles (5) 2021.05.31.   \n\n                                   Név.4  Kredit.4  \n191           Adatbázis alapú rendszerek       2.0  \n192           Adatbázis alapú rendszerek       2.0  \n193  Algoritmusok és adatszerkezetek II.       2.0  \n194  Algoritmusok és adatszerkezetek II.       2.0  \n195           Számítógépes grafika gyak.       2.0  \n196           Számítógépes grafika gyak.       2.0  \n197              Alkalmazásfejlesztés I.       2.0  \n199              Diszkrét matematika II.       3.0  \n205                       Szkriptnyelvek       2.0  \n206                       Szkriptnyelvek       2.0  \n217       Webfejlesztési keretrendszerek       1.0  \n223  Döntéselméleti rendszerek gyakorlat       2.0  \n224  Döntéselméleti rendszerek gyakorlat       2.0  \n231     Adatbázis alapú rendszerek gyak.       3.0  \n232     Adatbázis alapú rendszerek gyak.       3.0  \n233         Rendszerfejlesztés II. gyak.       2.0  \n239            Szoftvertesztelés alapjai       3.0  \n241                 Számítógépes grafika       2.0  \n242                 Számítógépes grafika       2.0  \n244       Webfejlesztési keretrendszerek       2.0  \n248            Bevezetés a mélytanulásba       2.0  \n249             Diszkrét matematika III.       2.0  \n251  Algoritmusok és adatszerkezetek II.       2.0  \n252  Algoritmusok és adatszerkezetek II.       2.0  \n257       Assembly programozás gyakorlat       1.0  \n261              Diszkrét matematika II.       2.0  \n262           Mobil alkalmazásfejlesztés       2.0  \n268             Diszkrét matematika III.       3.0  \n269                 Szkriptnyelvek gyak.       2.0  \n270                 Szkriptnyelvek gyak.       2.0  \n275            Szoftvertesztelés alapjai       2.0  \n283           Mobil alkalmazásfejlesztés       1.0  \n284            Döntéselméleti rendszerek       2.0  \n285            Döntéselméleti rendszerek       2.0  \n287                 Assembly programozás       1.0  ",
      "text/html": "<div>\n<style scoped>\n    .dataframe tbody tr th:only-of-type {\n        vertical-align: middle;\n    }\n\n    .dataframe tbody tr th {\n        vertical-align: top;\n    }\n\n    .dataframe thead th {\n        text-align: right;\n    }\n</style>\n<table border=\"1\" class=\"dataframe\">\n  <thead>\n    <tr style=\"text-align: right;\">\n      <th></th>\n      <th>Eredmény.4</th>\n      <th>Név.4</th>\n      <th>Kredit.4</th>\n    </tr>\n  </thead>\n  <tbody>\n    <tr>\n      <th>191</th>\n      <td>Kollokvium Elégséges (2) 2023.06.07.</td>\n      <td>Adatbázis alapú rendszerek</td>\n      <td>2.0</td>\n    </tr>\n    <tr>\n      <th>192</th>\n      <td>Kollokvium Elégséges (2) 2023.06.07.</td>\n      <td>Adatbázis alapú rendszerek</td>\n      <td>2.0</td>\n    </tr>\n    <tr>\n      <th>193</th>\n      <td>Kollokvium Közepes (3) 2022.06.14.</td>\n      <td>Algoritmusok és adatszerkezetek II.</td>\n      <td>2.0</td>\n    </tr>\n    <tr>\n      <th>194</th>\n      <td>Kollokvium Közepes (3) 2022.06.14.</td>\n      <td>Algoritmusok és adatszerkezetek II.</td>\n      <td>2.0</td>\n    </tr>\n    <tr>\n      <th>195</th>\n      <td>Gyakorlati jegy Jeles (5) 2022.12.09.</td>\n      <td>Számítógépes grafika gyak.</td>\n      <td>2.0</td>\n    </tr>\n    <tr>\n      <th>196</th>\n      <td>Gyakorlati jegy Jeles (5) 2022.12.09.</td>\n      <td>Számítógépes grafika gyak.</td>\n      <td>2.0</td>\n    </tr>\n    <tr>\n      <th>197</th>\n      <td>Gyakorlati jegy Elégtelen (1) 2023.05.11.</td>\n      <td>Alkalmazásfejlesztés I.</td>\n      <td>2.0</td>\n    </tr>\n    <tr>\n      <th>199</th>\n      <td>Gyakorlati jegy Jeles (5) 2021.05.29.</td>\n      <td>Diszkrét matematika II.</td>\n      <td>3.0</td>\n    </tr>\n    <tr>\n      <th>205</th>\n      <td>Kollokvium Elégséges (2) 2022.01.05.</td>\n      <td>Szkriptnyelvek</td>\n      <td>2.0</td>\n    </tr>\n    <tr>\n      <th>206</th>\n      <td>Kollokvium Elégséges (2) 2022.01.05.</td>\n      <td>Szkriptnyelvek</td>\n      <td>2.0</td>\n    </tr>\n    <tr>\n      <th>217</th>\n      <td>Kollokvium Közepes (3) 2022.06.09.</td>\n      <td>Webfejlesztési keretrendszerek</td>\n      <td>1.0</td>\n    </tr>\n    <tr>\n      <th>223</th>\n      <td>Gyakorlati jegy Közepes (3) 2021.12.17.</td>\n      <td>Döntéselméleti rendszerek gyakorlat</td>\n      <td>2.0</td>\n    </tr>\n    <tr>\n      <th>224</th>\n      <td>Gyakorlati jegy Közepes (3) 2021.12.17.</td>\n      <td>Döntéselméleti rendszerek gyakorlat</td>\n      <td>2.0</td>\n    </tr>\n    <tr>\n      <th>231</th>\n      <td>Gyakorlati jegy Jó (4) 2023.05.12.</td>\n      <td>Adatbázis alapú rendszerek gyak.</td>\n      <td>3.0</td>\n    </tr>\n    <tr>\n      <th>232</th>\n      <td>Gyakorlati jegy Jó (4) 2023.05.12.</td>\n      <td>Adatbázis alapú rendszerek gyak.</td>\n      <td>3.0</td>\n    </tr>\n    <tr>\n      <th>233</th>\n      <td>Gyakorlati jegy Elégtelen (1) 2023.05.12.</td>\n      <td>Rendszerfejlesztés II. gyak.</td>\n      <td>2.0</td>\n    </tr>\n    <tr>\n      <th>239</th>\n      <td>Gyakorlati jegy Közepes (3) 2022.12.09.</td>\n      <td>Szoftvertesztelés alapjai</td>\n      <td>3.0</td>\n    </tr>\n    <tr>\n      <th>241</th>\n      <td>Kollokvium Közepes (3) 2023.01.09.</td>\n      <td>Számítógépes grafika</td>\n      <td>2.0</td>\n    </tr>\n    <tr>\n      <th>242</th>\n      <td>Kollokvium Közepes (3) 2023.01.09.</td>\n      <td>Számítógépes grafika</td>\n      <td>2.0</td>\n    </tr>\n    <tr>\n      <th>244</th>\n      <td>Gyakorlati jegy Jeles (5) 2022.05.16.</td>\n      <td>Webfejlesztési keretrendszerek</td>\n      <td>2.0</td>\n    </tr>\n    <tr>\n      <th>248</th>\n      <td>Gyakorlati jegy Elégtelen (1) 2022.12.08.</td>\n      <td>Bevezetés a mélytanulásba</td>\n      <td>2.0</td>\n    </tr>\n    <tr>\n      <th>249</th>\n      <td>Kollokvium Közepes (3) 2022.12.31.</td>\n      <td>Diszkrét matematika III.</td>\n      <td>2.0</td>\n    </tr>\n    <tr>\n      <th>251</th>\n      <td>Gyakorlati jegy Közepes (3) 2022.05.16.</td>\n      <td>Algoritmusok és adatszerkezetek II.</td>\n      <td>2.0</td>\n    </tr>\n    <tr>\n      <th>252</th>\n      <td>Gyakorlati jegy Közepes (3) 2022.05.16.</td>\n      <td>Algoritmusok és adatszerkezetek II.</td>\n      <td>2.0</td>\n    </tr>\n    <tr>\n      <th>257</th>\n      <td>Gyakorlati jegy Elégséges (2) 2021.05.23.</td>\n      <td>Assembly programozás gyakorlat</td>\n      <td>1.0</td>\n    </tr>\n    <tr>\n      <th>261</th>\n      <td>Kollokvium Jeles (5) 2021.06.02.</td>\n      <td>Diszkrét matematika II.</td>\n      <td>2.0</td>\n    </tr>\n    <tr>\n      <th>262</th>\n      <td>Gyakorlati jegy Jeles (5) 2023.05.15.</td>\n      <td>Mobil alkalmazásfejlesztés</td>\n      <td>2.0</td>\n    </tr>\n    <tr>\n      <th>268</th>\n      <td>Gyakorlati jegy Közepes (3) 2022.12.19.</td>\n      <td>Diszkrét matematika III.</td>\n      <td>3.0</td>\n    </tr>\n    <tr>\n      <th>269</th>\n      <td>Gyakorlati jegy Elégséges (2) 2021.12.20.</td>\n      <td>Szkriptnyelvek gyak.</td>\n      <td>2.0</td>\n    </tr>\n    <tr>\n      <th>270</th>\n      <td>Gyakorlati jegy Elégséges (2) 2021.12.20.</td>\n      <td>Szkriptnyelvek gyak.</td>\n      <td>2.0</td>\n    </tr>\n    <tr>\n      <th>275</th>\n      <td>Kollokvium Elégséges (2) 2023.01.17.</td>\n      <td>Szoftvertesztelés alapjai</td>\n      <td>2.0</td>\n    </tr>\n    <tr>\n      <th>283</th>\n      <td>Kollokvium Jeles (5) 2023.06.06.</td>\n      <td>Mobil alkalmazásfejlesztés</td>\n      <td>1.0</td>\n    </tr>\n    <tr>\n      <th>284</th>\n      <td>Kollokvium Közepes (3) 2021.12.21.</td>\n      <td>Döntéselméleti rendszerek</td>\n      <td>2.0</td>\n    </tr>\n    <tr>\n      <th>285</th>\n      <td>Kollokvium Közepes (3) 2021.12.21.</td>\n      <td>Döntéselméleti rendszerek</td>\n      <td>2.0</td>\n    </tr>\n    <tr>\n      <th>287</th>\n      <td>Kollokvium Jeles (5) 2021.05.31.</td>\n      <td>Assembly programozás</td>\n      <td>1.0</td>\n    </tr>\n  </tbody>\n</table>\n</div>"
     },
     "execution_count": 225,
     "metadata": {},
     "output_type": "execute_result"
    }
   ],
   "source": [
    "df[df['Eredmény.4'] != 0.0][df['Név.4'] != 0.0][df['Kredit.4'] != 0.0][['Eredmény.4', 'Név.4', 'Kredit.4']]"
   ],
   "metadata": {
    "collapsed": false,
    "ExecuteTime": {
     "end_time": "2023-11-30T13:54:38.453406200Z",
     "start_time": "2023-11-30T13:54:38.432253200Z"
    }
   }
  },
  {
   "cell_type": "markdown",
   "source": [],
   "metadata": {
    "collapsed": false
   }
  },
  {
   "cell_type": "code",
   "execution_count": 226,
   "outputs": [
    {
     "name": "stderr",
     "output_type": "stream",
     "text": [
      "C:\\Users\\adam0\\AppData\\Local\\Temp\\ipykernel_22264\\616637415.py:1: UserWarning: Boolean Series key will be reindexed to match DataFrame index.\n",
      "  eredmenyek4 = set(df[df['Eredmény.4'] != 0.0][df['Név.4'] != 0.0][df['Kredit.4'] != 0.0][\n",
      "C:\\Users\\adam0\\AppData\\Local\\Temp\\ipykernel_22264\\616637415.py:1: UserWarning: Boolean Series key will be reindexed to match DataFrame index.\n",
      "  eredmenyek4 = set(df[df['Eredmény.4'] != 0.0][df['Név.4'] != 0.0][df['Kredit.4'] != 0.0][\n",
      "C:\\Users\\adam0\\AppData\\Local\\Temp\\ipykernel_22264\\616637415.py:1: UserWarning: Boolean Series key will be reindexed to match DataFrame index.\n",
      "  eredmenyek4 = set(df[df['Eredmény.4'] != 0.0][df['Név.4'] != 0.0][df['Kredit.4'] != 0.0][\n"
     ]
    }
   ],
   "source": [
    "eredmenyek4 = set(df[df['Eredmény.4'] != 0.0][df['Név.4'] != 0.0][df['Kredit.4'] != 0.0][\n",
    "                      ['Eredmény.4', 'Név.4', 'Kredit.4', 'Kód:.4']][\n",
    "                      df['Eredmény.4'].str.contains('Elégtelen') == False]['Kód:.4'])"
   ],
   "metadata": {
    "collapsed": false,
    "ExecuteTime": {
     "end_time": "2023-11-30T13:54:39.334367300Z",
     "start_time": "2023-11-30T13:54:39.284784300Z"
    }
   }
  },
  {
   "cell_type": "code",
   "execution_count": 227,
   "outputs": [
    {
     "data": {
      "text/plain": "{'IB152e',\n 'IB152l',\n 'IB155e-00002',\n 'IB155l',\n 'IB370E',\n 'IB370G',\n 'IB470E',\n 'IB470G',\n 'IB471E',\n 'IB471G',\n 'IB676e',\n 'IB676l',\n 'IBK004E',\n 'IBK004G',\n 'IBK309E',\n 'IBK309G',\n 'IBK404E',\n 'IBK404G',\n 'MBNXK112E',\n 'MBNXK112G',\n 'MBNXK114E',\n 'MBNXK114G'}"
     },
     "execution_count": 227,
     "metadata": {},
     "output_type": "execute_result"
    }
   ],
   "source": [
    "eredmenyek4"
   ],
   "metadata": {
    "collapsed": false,
    "ExecuteTime": {
     "end_time": "2023-11-30T13:54:39.821257Z",
     "start_time": "2023-11-30T13:54:39.789636700Z"
    }
   }
  },
  {
   "cell_type": "code",
   "execution_count": 228,
   "outputs": [],
   "source": [
    "eredmenyek_osszes = eredmenyek2.union(eredmenyek3).union(eredmenyek4)\n"
   ],
   "metadata": {
    "collapsed": false,
    "ExecuteTime": {
     "end_time": "2023-11-30T13:54:40.124352700Z",
     "start_time": "2023-11-30T13:54:40.114601500Z"
    }
   }
  },
  {
   "cell_type": "markdown",
   "source": [],
   "metadata": {
    "collapsed": false
   }
  },
  {
   "cell_type": "code",
   "execution_count": 229,
   "outputs": [
    {
     "name": "stderr",
     "output_type": "stream",
     "text": [
      "C:\\Users\\adam0\\AppData\\Local\\Temp\\ipykernel_22264\\3473425535.py:1: UserWarning: Boolean Series key will be reindexed to match DataFrame index.\n",
      "  df[df['Eredmény.4'] != 0.0][df['Név.4'] != 0.0][df['Kredit.4'] != 0.0][['Eredmény.4', 'Név.4', 'Kredit.4', 'Kód:.4']][\n",
      "C:\\Users\\adam0\\AppData\\Local\\Temp\\ipykernel_22264\\3473425535.py:1: UserWarning: Boolean Series key will be reindexed to match DataFrame index.\n",
      "  df[df['Eredmény.4'] != 0.0][df['Név.4'] != 0.0][df['Kredit.4'] != 0.0][['Eredmény.4', 'Név.4', 'Kredit.4', 'Kód:.4']][\n",
      "C:\\Users\\adam0\\AppData\\Local\\Temp\\ipykernel_22264\\3473425535.py:1: UserWarning: Boolean Series key will be reindexed to match DataFrame index.\n",
      "  df[df['Eredmény.4'] != 0.0][df['Név.4'] != 0.0][df['Kredit.4'] != 0.0][['Eredmény.4', 'Név.4', 'Kredit.4', 'Kód:.4']][\n"
     ]
    },
    {
     "data": {
      "text/plain": "191          IB152e\n192          IB152e\n193         IBK404E\n194         IBK404E\n195          IB155l\n196          IB155l\n199       MBNXK112G\n205          IB370E\n206          IB370E\n217          IB471E\n223         IBK309G\n224         IBK309G\n231          IB152l\n232          IB152l\n239         IBK004G\n241    IB155e-00002\n242    IB155e-00002\n244          IB471G\n249       MBNXK114E\n251         IBK404G\n252         IBK404G\n257          IB676l\n261       MBNXK112E\n262          IB470G\n268       MBNXK114G\n269          IB370G\n270          IB370G\n275         IBK004E\n283          IB470E\n284         IBK309E\n285         IBK309E\n287          IB676e\nName: Kód:.4, dtype: object"
     },
     "execution_count": 229,
     "metadata": {},
     "output_type": "execute_result"
    }
   ],
   "source": [
    "df[df['Eredmény.4'] != 0.0][df['Név.4'] != 0.0][df['Kredit.4'] != 0.0][['Eredmény.4', 'Név.4', 'Kredit.4', 'Kód:.4']][\n",
    "    df['Eredmény.4'].str.contains('Elégtelen') == False]['Kód:.4']"
   ],
   "metadata": {
    "collapsed": false,
    "ExecuteTime": {
     "end_time": "2023-11-30T13:54:41.083531500Z",
     "start_time": "2023-11-30T13:54:41.039427900Z"
    }
   }
  },
  {
   "cell_type": "markdown",
   "source": [],
   "metadata": {
    "collapsed": false
   }
  },
  {
   "cell_type": "markdown",
   "source": [],
   "metadata": {
    "collapsed": false
   }
  },
  {
   "cell_type": "code",
   "execution_count": 230,
   "outputs": [
    {
     "name": "stderr",
     "output_type": "stream",
     "text": [
      "C:\\Users\\adam0\\AppData\\Local\\Temp\\ipykernel_22264\\3639325868.py:4: FutureWarning: Calling int on a single element Series is deprecated and will raise a TypeError in the future. Use int(ser.iloc[0]) instead\n",
      "  eredmenyek4_kredit += int(df[df['Kód:.4'] == kod]['Kredit.4'][:1])\n",
      "C:\\Users\\adam0\\AppData\\Local\\Temp\\ipykernel_22264\\3639325868.py:4: FutureWarning: Calling int on a single element Series is deprecated and will raise a TypeError in the future. Use int(ser.iloc[0]) instead\n",
      "  eredmenyek4_kredit += int(df[df['Kód:.4'] == kod]['Kredit.4'][:1])\n",
      "C:\\Users\\adam0\\AppData\\Local\\Temp\\ipykernel_22264\\3639325868.py:4: FutureWarning: Calling int on a single element Series is deprecated and will raise a TypeError in the future. Use int(ser.iloc[0]) instead\n",
      "  eredmenyek4_kredit += int(df[df['Kód:.4'] == kod]['Kredit.4'][:1])\n",
      "C:\\Users\\adam0\\AppData\\Local\\Temp\\ipykernel_22264\\3639325868.py:4: FutureWarning: Calling int on a single element Series is deprecated and will raise a TypeError in the future. Use int(ser.iloc[0]) instead\n",
      "  eredmenyek4_kredit += int(df[df['Kód:.4'] == kod]['Kredit.4'][:1])\n",
      "C:\\Users\\adam0\\AppData\\Local\\Temp\\ipykernel_22264\\3639325868.py:4: FutureWarning: Calling int on a single element Series is deprecated and will raise a TypeError in the future. Use int(ser.iloc[0]) instead\n",
      "  eredmenyek4_kredit += int(df[df['Kód:.4'] == kod]['Kredit.4'][:1])\n",
      "C:\\Users\\adam0\\AppData\\Local\\Temp\\ipykernel_22264\\3639325868.py:4: FutureWarning: Calling int on a single element Series is deprecated and will raise a TypeError in the future. Use int(ser.iloc[0]) instead\n",
      "  eredmenyek4_kredit += int(df[df['Kód:.4'] == kod]['Kredit.4'][:1])\n",
      "C:\\Users\\adam0\\AppData\\Local\\Temp\\ipykernel_22264\\3639325868.py:4: FutureWarning: Calling int on a single element Series is deprecated and will raise a TypeError in the future. Use int(ser.iloc[0]) instead\n",
      "  eredmenyek4_kredit += int(df[df['Kód:.4'] == kod]['Kredit.4'][:1])\n",
      "C:\\Users\\adam0\\AppData\\Local\\Temp\\ipykernel_22264\\3639325868.py:4: FutureWarning: Calling int on a single element Series is deprecated and will raise a TypeError in the future. Use int(ser.iloc[0]) instead\n",
      "  eredmenyek4_kredit += int(df[df['Kód:.4'] == kod]['Kredit.4'][:1])\n",
      "C:\\Users\\adam0\\AppData\\Local\\Temp\\ipykernel_22264\\3639325868.py:4: FutureWarning: Calling int on a single element Series is deprecated and will raise a TypeError in the future. Use int(ser.iloc[0]) instead\n",
      "  eredmenyek4_kredit += int(df[df['Kód:.4'] == kod]['Kredit.4'][:1])\n",
      "C:\\Users\\adam0\\AppData\\Local\\Temp\\ipykernel_22264\\3639325868.py:4: FutureWarning: Calling int on a single element Series is deprecated and will raise a TypeError in the future. Use int(ser.iloc[0]) instead\n",
      "  eredmenyek4_kredit += int(df[df['Kód:.4'] == kod]['Kredit.4'][:1])\n",
      "C:\\Users\\adam0\\AppData\\Local\\Temp\\ipykernel_22264\\3639325868.py:4: FutureWarning: Calling int on a single element Series is deprecated and will raise a TypeError in the future. Use int(ser.iloc[0]) instead\n",
      "  eredmenyek4_kredit += int(df[df['Kód:.4'] == kod]['Kredit.4'][:1])\n",
      "C:\\Users\\adam0\\AppData\\Local\\Temp\\ipykernel_22264\\3639325868.py:4: FutureWarning: Calling int on a single element Series is deprecated and will raise a TypeError in the future. Use int(ser.iloc[0]) instead\n",
      "  eredmenyek4_kredit += int(df[df['Kód:.4'] == kod]['Kredit.4'][:1])\n",
      "C:\\Users\\adam0\\AppData\\Local\\Temp\\ipykernel_22264\\3639325868.py:4: FutureWarning: Calling int on a single element Series is deprecated and will raise a TypeError in the future. Use int(ser.iloc[0]) instead\n",
      "  eredmenyek4_kredit += int(df[df['Kód:.4'] == kod]['Kredit.4'][:1])\n",
      "C:\\Users\\adam0\\AppData\\Local\\Temp\\ipykernel_22264\\3639325868.py:4: FutureWarning: Calling int on a single element Series is deprecated and will raise a TypeError in the future. Use int(ser.iloc[0]) instead\n",
      "  eredmenyek4_kredit += int(df[df['Kód:.4'] == kod]['Kredit.4'][:1])\n",
      "C:\\Users\\adam0\\AppData\\Local\\Temp\\ipykernel_22264\\3639325868.py:4: FutureWarning: Calling int on a single element Series is deprecated and will raise a TypeError in the future. Use int(ser.iloc[0]) instead\n",
      "  eredmenyek4_kredit += int(df[df['Kód:.4'] == kod]['Kredit.4'][:1])\n",
      "C:\\Users\\adam0\\AppData\\Local\\Temp\\ipykernel_22264\\3639325868.py:4: FutureWarning: Calling int on a single element Series is deprecated and will raise a TypeError in the future. Use int(ser.iloc[0]) instead\n",
      "  eredmenyek4_kredit += int(df[df['Kód:.4'] == kod]['Kredit.4'][:1])\n",
      "C:\\Users\\adam0\\AppData\\Local\\Temp\\ipykernel_22264\\3639325868.py:4: FutureWarning: Calling int on a single element Series is deprecated and will raise a TypeError in the future. Use int(ser.iloc[0]) instead\n",
      "  eredmenyek4_kredit += int(df[df['Kód:.4'] == kod]['Kredit.4'][:1])\n",
      "C:\\Users\\adam0\\AppData\\Local\\Temp\\ipykernel_22264\\3639325868.py:4: FutureWarning: Calling int on a single element Series is deprecated and will raise a TypeError in the future. Use int(ser.iloc[0]) instead\n",
      "  eredmenyek4_kredit += int(df[df['Kód:.4'] == kod]['Kredit.4'][:1])\n",
      "C:\\Users\\adam0\\AppData\\Local\\Temp\\ipykernel_22264\\3639325868.py:4: FutureWarning: Calling int on a single element Series is deprecated and will raise a TypeError in the future. Use int(ser.iloc[0]) instead\n",
      "  eredmenyek4_kredit += int(df[df['Kód:.4'] == kod]['Kredit.4'][:1])\n",
      "C:\\Users\\adam0\\AppData\\Local\\Temp\\ipykernel_22264\\3639325868.py:4: FutureWarning: Calling int on a single element Series is deprecated and will raise a TypeError in the future. Use int(ser.iloc[0]) instead\n",
      "  eredmenyek4_kredit += int(df[df['Kód:.4'] == kod]['Kredit.4'][:1])\n",
      "C:\\Users\\adam0\\AppData\\Local\\Temp\\ipykernel_22264\\3639325868.py:4: FutureWarning: Calling int on a single element Series is deprecated and will raise a TypeError in the future. Use int(ser.iloc[0]) instead\n",
      "  eredmenyek4_kredit += int(df[df['Kód:.4'] == kod]['Kredit.4'][:1])\n",
      "C:\\Users\\adam0\\AppData\\Local\\Temp\\ipykernel_22264\\3639325868.py:4: FutureWarning: Calling int on a single element Series is deprecated and will raise a TypeError in the future. Use int(ser.iloc[0]) instead\n",
      "  eredmenyek4_kredit += int(df[df['Kód:.4'] == kod]['Kredit.4'][:1])\n"
     ]
    }
   ],
   "source": [
    "eredmenyek4_kredit = 0\n",
    "export_df = pd.DataFrame({'Név': [], 'Eredmény': [], 'Kredit': []})\n",
    "for kod in eredmenyek4.intersection(eredmenyek_osszes):\n",
    "    eredmenyek4_kredit += int(df[df['Kód:.4'] == kod]['Kredit.4'][:1])\n",
    "    # print(df[df['Kód:.4'] == kod]['Név.4'].to_list()[0])\n",
    "    # break\n",
    "    export_df.loc[len(export_df.index)] = [str(df[df['Kód:.4'] == kod]['Név.4'][:1].to_list()[0]),\n",
    "                                           str(df[df['Kód:.4'] == kod]['Eredmény.4'][:1].to_list()[0]),\n",
    "                                           int(df[df['Kód:.4'] == kod]['Kredit.4'][:1].to_list()[0])]"
   ],
   "metadata": {
    "collapsed": false,
    "ExecuteTime": {
     "end_time": "2023-11-30T13:54:42.385873400Z",
     "start_time": "2023-11-30T13:54:42.283333300Z"
    }
   }
  },
  {
   "cell_type": "code",
   "execution_count": 231,
   "outputs": [
    {
     "data": {
      "text/plain": "                                    Név  \\\n0   Algoritmusok és adatszerkezetek II.   \n1            Mobil alkalmazásfejlesztés   \n2        Assembly programozás gyakorlat   \n3        Webfejlesztési keretrendszerek   \n4        Webfejlesztési keretrendszerek   \n5              Diszkrét matematika III.   \n6              Diszkrét matematika III.   \n7   Döntéselméleti rendszerek gyakorlat   \n8   Algoritmusok és adatszerkezetek II.   \n9            Mobil alkalmazásfejlesztés   \n10           Adatbázis alapú rendszerek   \n11     Adatbázis alapú rendszerek gyak.   \n12            Döntéselméleti rendszerek   \n13           Számítógépes grafika gyak.   \n14              Diszkrét matematika II.   \n15            Szoftvertesztelés alapjai   \n16                 Assembly programozás   \n17            Szoftvertesztelés alapjai   \n18                       Szkriptnyelvek   \n19                 Szkriptnyelvek gyak.   \n20              Diszkrét matematika II.   \n21                 Számítógépes grafika   \n\n                                     Eredmény  Kredit  \n0          Kollokvium Közepes (3) 2022.06.14.       2  \n1       Gyakorlati jegy Jeles (5) 2023.05.15.       2  \n2   Gyakorlati jegy Elégséges (2) 2021.05.23.       1  \n3          Kollokvium Közepes (3) 2022.06.09.       1  \n4       Gyakorlati jegy Jeles (5) 2022.05.16.       2  \n5          Kollokvium Közepes (3) 2022.12.31.       2  \n6     Gyakorlati jegy Közepes (3) 2022.12.19.       3  \n7     Gyakorlati jegy Közepes (3) 2021.12.17.       2  \n8     Gyakorlati jegy Közepes (3) 2022.05.16.       2  \n9            Kollokvium Jeles (5) 2023.06.06.       1  \n10       Kollokvium Elégséges (2) 2023.06.07.       2  \n11         Gyakorlati jegy Jó (4) 2023.05.12.       3  \n12         Kollokvium Közepes (3) 2021.12.21.       2  \n13      Gyakorlati jegy Jeles (5) 2022.12.09.       2  \n14      Gyakorlati jegy Jeles (5) 2021.05.29.       3  \n15       Kollokvium Elégséges (2) 2023.01.17.       2  \n16           Kollokvium Jeles (5) 2021.05.31.       1  \n17    Gyakorlati jegy Közepes (3) 2022.12.09.       3  \n18       Kollokvium Elégséges (2) 2022.01.05.       2  \n19  Gyakorlati jegy Elégséges (2) 2021.12.20.       2  \n20           Kollokvium Jeles (5) 2021.06.02.       2  \n21         Kollokvium Közepes (3) 2023.01.09.       2  ",
      "text/html": "<div>\n<style scoped>\n    .dataframe tbody tr th:only-of-type {\n        vertical-align: middle;\n    }\n\n    .dataframe tbody tr th {\n        vertical-align: top;\n    }\n\n    .dataframe thead th {\n        text-align: right;\n    }\n</style>\n<table border=\"1\" class=\"dataframe\">\n  <thead>\n    <tr style=\"text-align: right;\">\n      <th></th>\n      <th>Név</th>\n      <th>Eredmény</th>\n      <th>Kredit</th>\n    </tr>\n  </thead>\n  <tbody>\n    <tr>\n      <th>0</th>\n      <td>Algoritmusok és adatszerkezetek II.</td>\n      <td>Kollokvium Közepes (3) 2022.06.14.</td>\n      <td>2</td>\n    </tr>\n    <tr>\n      <th>1</th>\n      <td>Mobil alkalmazásfejlesztés</td>\n      <td>Gyakorlati jegy Jeles (5) 2023.05.15.</td>\n      <td>2</td>\n    </tr>\n    <tr>\n      <th>2</th>\n      <td>Assembly programozás gyakorlat</td>\n      <td>Gyakorlati jegy Elégséges (2) 2021.05.23.</td>\n      <td>1</td>\n    </tr>\n    <tr>\n      <th>3</th>\n      <td>Webfejlesztési keretrendszerek</td>\n      <td>Kollokvium Közepes (3) 2022.06.09.</td>\n      <td>1</td>\n    </tr>\n    <tr>\n      <th>4</th>\n      <td>Webfejlesztési keretrendszerek</td>\n      <td>Gyakorlati jegy Jeles (5) 2022.05.16.</td>\n      <td>2</td>\n    </tr>\n    <tr>\n      <th>5</th>\n      <td>Diszkrét matematika III.</td>\n      <td>Kollokvium Közepes (3) 2022.12.31.</td>\n      <td>2</td>\n    </tr>\n    <tr>\n      <th>6</th>\n      <td>Diszkrét matematika III.</td>\n      <td>Gyakorlati jegy Közepes (3) 2022.12.19.</td>\n      <td>3</td>\n    </tr>\n    <tr>\n      <th>7</th>\n      <td>Döntéselméleti rendszerek gyakorlat</td>\n      <td>Gyakorlati jegy Közepes (3) 2021.12.17.</td>\n      <td>2</td>\n    </tr>\n    <tr>\n      <th>8</th>\n      <td>Algoritmusok és adatszerkezetek II.</td>\n      <td>Gyakorlati jegy Közepes (3) 2022.05.16.</td>\n      <td>2</td>\n    </tr>\n    <tr>\n      <th>9</th>\n      <td>Mobil alkalmazásfejlesztés</td>\n      <td>Kollokvium Jeles (5) 2023.06.06.</td>\n      <td>1</td>\n    </tr>\n    <tr>\n      <th>10</th>\n      <td>Adatbázis alapú rendszerek</td>\n      <td>Kollokvium Elégséges (2) 2023.06.07.</td>\n      <td>2</td>\n    </tr>\n    <tr>\n      <th>11</th>\n      <td>Adatbázis alapú rendszerek gyak.</td>\n      <td>Gyakorlati jegy Jó (4) 2023.05.12.</td>\n      <td>3</td>\n    </tr>\n    <tr>\n      <th>12</th>\n      <td>Döntéselméleti rendszerek</td>\n      <td>Kollokvium Közepes (3) 2021.12.21.</td>\n      <td>2</td>\n    </tr>\n    <tr>\n      <th>13</th>\n      <td>Számítógépes grafika gyak.</td>\n      <td>Gyakorlati jegy Jeles (5) 2022.12.09.</td>\n      <td>2</td>\n    </tr>\n    <tr>\n      <th>14</th>\n      <td>Diszkrét matematika II.</td>\n      <td>Gyakorlati jegy Jeles (5) 2021.05.29.</td>\n      <td>3</td>\n    </tr>\n    <tr>\n      <th>15</th>\n      <td>Szoftvertesztelés alapjai</td>\n      <td>Kollokvium Elégséges (2) 2023.01.17.</td>\n      <td>2</td>\n    </tr>\n    <tr>\n      <th>16</th>\n      <td>Assembly programozás</td>\n      <td>Kollokvium Jeles (5) 2021.05.31.</td>\n      <td>1</td>\n    </tr>\n    <tr>\n      <th>17</th>\n      <td>Szoftvertesztelés alapjai</td>\n      <td>Gyakorlati jegy Közepes (3) 2022.12.09.</td>\n      <td>3</td>\n    </tr>\n    <tr>\n      <th>18</th>\n      <td>Szkriptnyelvek</td>\n      <td>Kollokvium Elégséges (2) 2022.01.05.</td>\n      <td>2</td>\n    </tr>\n    <tr>\n      <th>19</th>\n      <td>Szkriptnyelvek gyak.</td>\n      <td>Gyakorlati jegy Elégséges (2) 2021.12.20.</td>\n      <td>2</td>\n    </tr>\n    <tr>\n      <th>20</th>\n      <td>Diszkrét matematika II.</td>\n      <td>Kollokvium Jeles (5) 2021.06.02.</td>\n      <td>2</td>\n    </tr>\n    <tr>\n      <th>21</th>\n      <td>Számítógépes grafika</td>\n      <td>Kollokvium Közepes (3) 2023.01.09.</td>\n      <td>2</td>\n    </tr>\n  </tbody>\n</table>\n</div>"
     },
     "execution_count": 231,
     "metadata": {},
     "output_type": "execute_result"
    }
   ],
   "source": [
    "export_df"
   ],
   "metadata": {
    "collapsed": false,
    "ExecuteTime": {
     "end_time": "2023-11-30T13:54:42.663170600Z",
     "start_time": "2023-11-30T13:54:42.651618500Z"
    }
   }
  },
  {
   "cell_type": "code",
   "execution_count": 232,
   "outputs": [
    {
     "name": "stderr",
     "output_type": "stream",
     "text": [
      "C:\\Users\\adam0\\AppData\\Local\\Temp\\ipykernel_22264\\2777879884.py:3: FutureWarning: Calling int on a single element Series is deprecated and will raise a TypeError in the future. Use int(ser.iloc[0]) instead\n",
      "  eredmenyek3_kredit += int(df[df['Kód:.3'] == kod]['Kredit.3'][:1])\n",
      "C:\\Users\\adam0\\AppData\\Local\\Temp\\ipykernel_22264\\2777879884.py:3: FutureWarning: Calling int on a single element Series is deprecated and will raise a TypeError in the future. Use int(ser.iloc[0]) instead\n",
      "  eredmenyek3_kredit += int(df[df['Kód:.3'] == kod]['Kredit.3'][:1])\n",
      "C:\\Users\\adam0\\AppData\\Local\\Temp\\ipykernel_22264\\2777879884.py:3: FutureWarning: Calling int on a single element Series is deprecated and will raise a TypeError in the future. Use int(ser.iloc[0]) instead\n",
      "  eredmenyek3_kredit += int(df[df['Kód:.3'] == kod]['Kredit.3'][:1])\n",
      "C:\\Users\\adam0\\AppData\\Local\\Temp\\ipykernel_22264\\2777879884.py:3: FutureWarning: Calling int on a single element Series is deprecated and will raise a TypeError in the future. Use int(ser.iloc[0]) instead\n",
      "  eredmenyek3_kredit += int(df[df['Kód:.3'] == kod]['Kredit.3'][:1])\n",
      "C:\\Users\\adam0\\AppData\\Local\\Temp\\ipykernel_22264\\2777879884.py:3: FutureWarning: Calling int on a single element Series is deprecated and will raise a TypeError in the future. Use int(ser.iloc[0]) instead\n",
      "  eredmenyek3_kredit += int(df[df['Kód:.3'] == kod]['Kredit.3'][:1])\n",
      "C:\\Users\\adam0\\AppData\\Local\\Temp\\ipykernel_22264\\2777879884.py:3: FutureWarning: Calling int on a single element Series is deprecated and will raise a TypeError in the future. Use int(ser.iloc[0]) instead\n",
      "  eredmenyek3_kredit += int(df[df['Kód:.3'] == kod]['Kredit.3'][:1])\n",
      "C:\\Users\\adam0\\AppData\\Local\\Temp\\ipykernel_22264\\2777879884.py:3: FutureWarning: Calling int on a single element Series is deprecated and will raise a TypeError in the future. Use int(ser.iloc[0]) instead\n",
      "  eredmenyek3_kredit += int(df[df['Kód:.3'] == kod]['Kredit.3'][:1])\n",
      "C:\\Users\\adam0\\AppData\\Local\\Temp\\ipykernel_22264\\2777879884.py:3: FutureWarning: Calling int on a single element Series is deprecated and will raise a TypeError in the future. Use int(ser.iloc[0]) instead\n",
      "  eredmenyek3_kredit += int(df[df['Kód:.3'] == kod]['Kredit.3'][:1])\n",
      "C:\\Users\\adam0\\AppData\\Local\\Temp\\ipykernel_22264\\2777879884.py:3: FutureWarning: Calling int on a single element Series is deprecated and will raise a TypeError in the future. Use int(ser.iloc[0]) instead\n",
      "  eredmenyek3_kredit += int(df[df['Kód:.3'] == kod]['Kredit.3'][:1])\n",
      "C:\\Users\\adam0\\AppData\\Local\\Temp\\ipykernel_22264\\2777879884.py:3: FutureWarning: Calling int on a single element Series is deprecated and will raise a TypeError in the future. Use int(ser.iloc[0]) instead\n",
      "  eredmenyek3_kredit += int(df[df['Kód:.3'] == kod]['Kredit.3'][:1])\n",
      "C:\\Users\\adam0\\AppData\\Local\\Temp\\ipykernel_22264\\2777879884.py:3: FutureWarning: Calling int on a single element Series is deprecated and will raise a TypeError in the future. Use int(ser.iloc[0]) instead\n",
      "  eredmenyek3_kredit += int(df[df['Kód:.3'] == kod]['Kredit.3'][:1])\n",
      "C:\\Users\\adam0\\AppData\\Local\\Temp\\ipykernel_22264\\2777879884.py:3: FutureWarning: Calling int on a single element Series is deprecated and will raise a TypeError in the future. Use int(ser.iloc[0]) instead\n",
      "  eredmenyek3_kredit += int(df[df['Kód:.3'] == kod]['Kredit.3'][:1])\n",
      "C:\\Users\\adam0\\AppData\\Local\\Temp\\ipykernel_22264\\2777879884.py:3: FutureWarning: Calling int on a single element Series is deprecated and will raise a TypeError in the future. Use int(ser.iloc[0]) instead\n",
      "  eredmenyek3_kredit += int(df[df['Kód:.3'] == kod]['Kredit.3'][:1])\n",
      "C:\\Users\\adam0\\AppData\\Local\\Temp\\ipykernel_22264\\2777879884.py:3: FutureWarning: Calling int on a single element Series is deprecated and will raise a TypeError in the future. Use int(ser.iloc[0]) instead\n",
      "  eredmenyek3_kredit += int(df[df['Kód:.3'] == kod]['Kredit.3'][:1])\n",
      "C:\\Users\\adam0\\AppData\\Local\\Temp\\ipykernel_22264\\2777879884.py:3: FutureWarning: Calling int on a single element Series is deprecated and will raise a TypeError in the future. Use int(ser.iloc[0]) instead\n",
      "  eredmenyek3_kredit += int(df[df['Kód:.3'] == kod]['Kredit.3'][:1])\n",
      "C:\\Users\\adam0\\AppData\\Local\\Temp\\ipykernel_22264\\2777879884.py:3: FutureWarning: Calling int on a single element Series is deprecated and will raise a TypeError in the future. Use int(ser.iloc[0]) instead\n",
      "  eredmenyek3_kredit += int(df[df['Kód:.3'] == kod]['Kredit.3'][:1])\n",
      "C:\\Users\\adam0\\AppData\\Local\\Temp\\ipykernel_22264\\2777879884.py:3: FutureWarning: Calling int on a single element Series is deprecated and will raise a TypeError in the future. Use int(ser.iloc[0]) instead\n",
      "  eredmenyek3_kredit += int(df[df['Kód:.3'] == kod]['Kredit.3'][:1])\n",
      "C:\\Users\\adam0\\AppData\\Local\\Temp\\ipykernel_22264\\2777879884.py:3: FutureWarning: Calling int on a single element Series is deprecated and will raise a TypeError in the future. Use int(ser.iloc[0]) instead\n",
      "  eredmenyek3_kredit += int(df[df['Kód:.3'] == kod]['Kredit.3'][:1])\n",
      "C:\\Users\\adam0\\AppData\\Local\\Temp\\ipykernel_22264\\2777879884.py:3: FutureWarning: Calling int on a single element Series is deprecated and will raise a TypeError in the future. Use int(ser.iloc[0]) instead\n",
      "  eredmenyek3_kredit += int(df[df['Kód:.3'] == kod]['Kredit.3'][:1])\n",
      "C:\\Users\\adam0\\AppData\\Local\\Temp\\ipykernel_22264\\2777879884.py:3: FutureWarning: Calling int on a single element Series is deprecated and will raise a TypeError in the future. Use int(ser.iloc[0]) instead\n",
      "  eredmenyek3_kredit += int(df[df['Kód:.3'] == kod]['Kredit.3'][:1])\n",
      "C:\\Users\\adam0\\AppData\\Local\\Temp\\ipykernel_22264\\2777879884.py:3: FutureWarning: Calling int on a single element Series is deprecated and will raise a TypeError in the future. Use int(ser.iloc[0]) instead\n",
      "  eredmenyek3_kredit += int(df[df['Kód:.3'] == kod]['Kredit.3'][:1])\n",
      "C:\\Users\\adam0\\AppData\\Local\\Temp\\ipykernel_22264\\2777879884.py:3: FutureWarning: Calling int on a single element Series is deprecated and will raise a TypeError in the future. Use int(ser.iloc[0]) instead\n",
      "  eredmenyek3_kredit += int(df[df['Kód:.3'] == kod]['Kredit.3'][:1])\n",
      "C:\\Users\\adam0\\AppData\\Local\\Temp\\ipykernel_22264\\2777879884.py:3: FutureWarning: Calling int on a single element Series is deprecated and will raise a TypeError in the future. Use int(ser.iloc[0]) instead\n",
      "  eredmenyek3_kredit += int(df[df['Kód:.3'] == kod]['Kredit.3'][:1])\n",
      "C:\\Users\\adam0\\AppData\\Local\\Temp\\ipykernel_22264\\2777879884.py:3: FutureWarning: Calling int on a single element Series is deprecated and will raise a TypeError in the future. Use int(ser.iloc[0]) instead\n",
      "  eredmenyek3_kredit += int(df[df['Kód:.3'] == kod]['Kredit.3'][:1])\n",
      "C:\\Users\\adam0\\AppData\\Local\\Temp\\ipykernel_22264\\2777879884.py:3: FutureWarning: Calling int on a single element Series is deprecated and will raise a TypeError in the future. Use int(ser.iloc[0]) instead\n",
      "  eredmenyek3_kredit += int(df[df['Kód:.3'] == kod]['Kredit.3'][:1])\n",
      "C:\\Users\\adam0\\AppData\\Local\\Temp\\ipykernel_22264\\2777879884.py:3: FutureWarning: Calling int on a single element Series is deprecated and will raise a TypeError in the future. Use int(ser.iloc[0]) instead\n",
      "  eredmenyek3_kredit += int(df[df['Kód:.3'] == kod]['Kredit.3'][:1])\n",
      "C:\\Users\\adam0\\AppData\\Local\\Temp\\ipykernel_22264\\2777879884.py:3: FutureWarning: Calling int on a single element Series is deprecated and will raise a TypeError in the future. Use int(ser.iloc[0]) instead\n",
      "  eredmenyek3_kredit += int(df[df['Kód:.3'] == kod]['Kredit.3'][:1])\n",
      "C:\\Users\\adam0\\AppData\\Local\\Temp\\ipykernel_22264\\2777879884.py:3: FutureWarning: Calling int on a single element Series is deprecated and will raise a TypeError in the future. Use int(ser.iloc[0]) instead\n",
      "  eredmenyek3_kredit += int(df[df['Kód:.3'] == kod]['Kredit.3'][:1])\n",
      "C:\\Users\\adam0\\AppData\\Local\\Temp\\ipykernel_22264\\2777879884.py:3: FutureWarning: Calling int on a single element Series is deprecated and will raise a TypeError in the future. Use int(ser.iloc[0]) instead\n",
      "  eredmenyek3_kredit += int(df[df['Kód:.3'] == kod]['Kredit.3'][:1])\n",
      "C:\\Users\\adam0\\AppData\\Local\\Temp\\ipykernel_22264\\2777879884.py:3: FutureWarning: Calling int on a single element Series is deprecated and will raise a TypeError in the future. Use int(ser.iloc[0]) instead\n",
      "  eredmenyek3_kredit += int(df[df['Kód:.3'] == kod]['Kredit.3'][:1])\n",
      "C:\\Users\\adam0\\AppData\\Local\\Temp\\ipykernel_22264\\2777879884.py:3: FutureWarning: Calling int on a single element Series is deprecated and will raise a TypeError in the future. Use int(ser.iloc[0]) instead\n",
      "  eredmenyek3_kredit += int(df[df['Kód:.3'] == kod]['Kredit.3'][:1])\n",
      "C:\\Users\\adam0\\AppData\\Local\\Temp\\ipykernel_22264\\2777879884.py:3: FutureWarning: Calling int on a single element Series is deprecated and will raise a TypeError in the future. Use int(ser.iloc[0]) instead\n",
      "  eredmenyek3_kredit += int(df[df['Kód:.3'] == kod]['Kredit.3'][:1])\n",
      "C:\\Users\\adam0\\AppData\\Local\\Temp\\ipykernel_22264\\2777879884.py:3: FutureWarning: Calling int on a single element Series is deprecated and will raise a TypeError in the future. Use int(ser.iloc[0]) instead\n",
      "  eredmenyek3_kredit += int(df[df['Kód:.3'] == kod]['Kredit.3'][:1])\n",
      "C:\\Users\\adam0\\AppData\\Local\\Temp\\ipykernel_22264\\2777879884.py:3: FutureWarning: Calling int on a single element Series is deprecated and will raise a TypeError in the future. Use int(ser.iloc[0]) instead\n",
      "  eredmenyek3_kredit += int(df[df['Kód:.3'] == kod]['Kredit.3'][:1])\n",
      "C:\\Users\\adam0\\AppData\\Local\\Temp\\ipykernel_22264\\2777879884.py:3: FutureWarning: Calling int on a single element Series is deprecated and will raise a TypeError in the future. Use int(ser.iloc[0]) instead\n",
      "  eredmenyek3_kredit += int(df[df['Kód:.3'] == kod]['Kredit.3'][:1])\n",
      "C:\\Users\\adam0\\AppData\\Local\\Temp\\ipykernel_22264\\2777879884.py:3: FutureWarning: Calling int on a single element Series is deprecated and will raise a TypeError in the future. Use int(ser.iloc[0]) instead\n",
      "  eredmenyek3_kredit += int(df[df['Kód:.3'] == kod]['Kredit.3'][:1])\n",
      "C:\\Users\\adam0\\AppData\\Local\\Temp\\ipykernel_22264\\2777879884.py:3: FutureWarning: Calling int on a single element Series is deprecated and will raise a TypeError in the future. Use int(ser.iloc[0]) instead\n",
      "  eredmenyek3_kredit += int(df[df['Kód:.3'] == kod]['Kredit.3'][:1])\n",
      "C:\\Users\\adam0\\AppData\\Local\\Temp\\ipykernel_22264\\2777879884.py:3: FutureWarning: Calling int on a single element Series is deprecated and will raise a TypeError in the future. Use int(ser.iloc[0]) instead\n",
      "  eredmenyek3_kredit += int(df[df['Kód:.3'] == kod]['Kredit.3'][:1])\n",
      "C:\\Users\\adam0\\AppData\\Local\\Temp\\ipykernel_22264\\2777879884.py:3: FutureWarning: Calling int on a single element Series is deprecated and will raise a TypeError in the future. Use int(ser.iloc[0]) instead\n",
      "  eredmenyek3_kredit += int(df[df['Kód:.3'] == kod]['Kredit.3'][:1])\n",
      "C:\\Users\\adam0\\AppData\\Local\\Temp\\ipykernel_22264\\2777879884.py:3: FutureWarning: Calling int on a single element Series is deprecated and will raise a TypeError in the future. Use int(ser.iloc[0]) instead\n",
      "  eredmenyek3_kredit += int(df[df['Kód:.3'] == kod]['Kredit.3'][:1])\n",
      "C:\\Users\\adam0\\AppData\\Local\\Temp\\ipykernel_22264\\2777879884.py:3: FutureWarning: Calling int on a single element Series is deprecated and will raise a TypeError in the future. Use int(ser.iloc[0]) instead\n",
      "  eredmenyek3_kredit += int(df[df['Kód:.3'] == kod]['Kredit.3'][:1])\n"
     ]
    }
   ],
   "source": [
    "eredmenyek3_kredit = 0\n",
    "for kod in eredmenyek3.intersection(eredmenyek_osszes - eredmenyek4):\n",
    "    eredmenyek3_kredit += int(df[df['Kód:.3'] == kod]['Kredit.3'][:1])\n",
    "    export_df.loc[len(export_df.index)] = [str(df[df['Kód:.3'] == kod]['Név.3'][:1].to_list()[0]),\n",
    "                                           str(df[df['Kód:.3'] == kod]['Eredmény.3'][:1].to_list()[0]),\n",
    "                                           int(df[df['Kód:.3'] == kod]['Kredit.3'][:1].to_list()[0])]"
   ],
   "metadata": {
    "collapsed": false,
    "ExecuteTime": {
     "end_time": "2023-11-30T13:54:43.335278400Z",
     "start_time": "2023-11-30T13:54:43.057235300Z"
    }
   }
  },
  {
   "cell_type": "code",
   "execution_count": 233,
   "outputs": [
    {
     "name": "stderr",
     "output_type": "stream",
     "text": [
      "C:\\Users\\adam0\\AppData\\Local\\Temp\\ipykernel_22264\\2330626446.py:3: FutureWarning: Calling int on a single element Series is deprecated and will raise a TypeError in the future. Use int(ser.iloc[0]) instead\n",
      "  eredmenyek2_kredit += int(df[df['Kód:.2'] == kod]['Kredit.2'][:1])\n"
     ]
    }
   ],
   "source": [
    "eredmenyek2_kredit = 0\n",
    "for kod in eredmenyek2.intersection(eredmenyek_osszes - eredmenyek3 - eredmenyek4):\n",
    "    eredmenyek2_kredit += int(df[df['Kód:.2'] == kod]['Kredit.2'][:1])\n",
    "    export_df.loc[len(export_df.index)] = [str(df[df['Kód:.2'] == kod]['Név.2'][:1].to_list()[0]),\n",
    "                                           str(df[df['Kód:.2'] == kod]['Eredmény.2'][:1].to_list()[0]),\n",
    "                                           int(df[df['Kód:.2'] == kod]['Kredit.2'][:1].to_list()[0])]"
   ],
   "metadata": {
    "collapsed": false,
    "ExecuteTime": {
     "end_time": "2023-11-30T13:54:43.591480900Z",
     "start_time": "2023-11-30T13:54:43.565473300Z"
    }
   }
  },
  {
   "cell_type": "markdown",
   "source": [],
   "metadata": {
    "collapsed": false
   }
  },
  {
   "cell_type": "code",
   "execution_count": 234,
   "outputs": [],
   "source": [
    "# eredmenyek4_kredit + eredmenyek3_kredit + eredmenyek2_kredit"
   ],
   "metadata": {
    "collapsed": false,
    "ExecuteTime": {
     "end_time": "2023-11-30T13:54:44.388174200Z",
     "start_time": "2023-11-30T13:54:44.376630200Z"
    }
   }
  },
  {
   "cell_type": "code",
   "execution_count": 235,
   "outputs": [
    {
     "data": {
      "text/plain": "148"
     },
     "execution_count": 235,
     "metadata": {},
     "output_type": "execute_result"
    }
   ],
   "source": [
    "sum(export_df['Kredit'].to_list())"
   ],
   "metadata": {
    "collapsed": false,
    "ExecuteTime": {
     "end_time": "2023-11-30T13:54:44.708815400Z",
     "start_time": "2023-11-30T13:54:44.645143400Z"
    }
   }
  },
  {
   "cell_type": "code",
   "execution_count": 236,
   "outputs": [],
   "source": [
    "eredmenyek_ossz = sum(export_df['Kredit'].to_list())"
   ],
   "metadata": {
    "collapsed": false,
    "ExecuteTime": {
     "end_time": "2023-11-30T13:54:44.937476500Z",
     "start_time": "2023-11-30T13:54:44.930176300Z"
    }
   }
  },
  {
   "cell_type": "code",
   "execution_count": 237,
   "outputs": [
    {
     "data": {
      "text/plain": "148"
     },
     "execution_count": 237,
     "metadata": {},
     "output_type": "execute_result"
    }
   ],
   "source": [
    "eredmenyek_ossz"
   ],
   "metadata": {
    "collapsed": false,
    "ExecuteTime": {
     "end_time": "2023-11-30T13:54:45.909429800Z",
     "start_time": "2023-11-30T13:54:45.899550Z"
    }
   }
  },
  {
   "cell_type": "code",
   "execution_count": 248,
   "outputs": [
    {
     "name": "stderr",
     "output_type": "stream",
     "text": [
      "C:\\Users\\adam0\\AppData\\Local\\Temp\\ipykernel_22264\\400692969.py:36: FutureWarning: Calling int on a single element Series is deprecated and will raise a TypeError in the future. Use int(ser.iloc[0]) instead\n",
      "  eredmenyek4_kredit2 += int(df[df['Kód:.4'] == kod]['Kredit.4'][:1])\n",
      "C:\\Users\\adam0\\AppData\\Local\\Temp\\ipykernel_22264\\400692969.py:36: FutureWarning: Calling int on a single element Series is deprecated and will raise a TypeError in the future. Use int(ser.iloc[0]) instead\n",
      "  eredmenyek4_kredit2 += int(df[df['Kód:.4'] == kod]['Kredit.4'][:1])\n",
      "C:\\Users\\adam0\\AppData\\Local\\Temp\\ipykernel_22264\\400692969.py:36: FutureWarning: Calling int on a single element Series is deprecated and will raise a TypeError in the future. Use int(ser.iloc[0]) instead\n",
      "  eredmenyek4_kredit2 += int(df[df['Kód:.4'] == kod]['Kredit.4'][:1])\n",
      "C:\\Users\\adam0\\AppData\\Local\\Temp\\ipykernel_22264\\400692969.py:36: FutureWarning: Calling int on a single element Series is deprecated and will raise a TypeError in the future. Use int(ser.iloc[0]) instead\n",
      "  eredmenyek4_kredit2 += int(df[df['Kód:.4'] == kod]['Kredit.4'][:1])\n",
      "C:\\Users\\adam0\\AppData\\Local\\Temp\\ipykernel_22264\\400692969.py:36: FutureWarning: Calling int on a single element Series is deprecated and will raise a TypeError in the future. Use int(ser.iloc[0]) instead\n",
      "  eredmenyek4_kredit2 += int(df[df['Kód:.4'] == kod]['Kredit.4'][:1])\n",
      "C:\\Users\\adam0\\AppData\\Local\\Temp\\ipykernel_22264\\400692969.py:36: FutureWarning: Calling int on a single element Series is deprecated and will raise a TypeError in the future. Use int(ser.iloc[0]) instead\n",
      "  eredmenyek4_kredit2 += int(df[df['Kód:.4'] == kod]['Kredit.4'][:1])\n",
      "C:\\Users\\adam0\\AppData\\Local\\Temp\\ipykernel_22264\\400692969.py:36: FutureWarning: Calling int on a single element Series is deprecated and will raise a TypeError in the future. Use int(ser.iloc[0]) instead\n",
      "  eredmenyek4_kredit2 += int(df[df['Kód:.4'] == kod]['Kredit.4'][:1])\n",
      "C:\\Users\\adam0\\AppData\\Local\\Temp\\ipykernel_22264\\400692969.py:36: FutureWarning: Calling int on a single element Series is deprecated and will raise a TypeError in the future. Use int(ser.iloc[0]) instead\n",
      "  eredmenyek4_kredit2 += int(df[df['Kód:.4'] == kod]['Kredit.4'][:1])\n",
      "C:\\Users\\adam0\\AppData\\Local\\Temp\\ipykernel_22264\\400692969.py:36: FutureWarning: Calling int on a single element Series is deprecated and will raise a TypeError in the future. Use int(ser.iloc[0]) instead\n",
      "  eredmenyek4_kredit2 += int(df[df['Kód:.4'] == kod]['Kredit.4'][:1])\n",
      "C:\\Users\\adam0\\AppData\\Local\\Temp\\ipykernel_22264\\400692969.py:36: FutureWarning: Calling int on a single element Series is deprecated and will raise a TypeError in the future. Use int(ser.iloc[0]) instead\n",
      "  eredmenyek4_kredit2 += int(df[df['Kód:.4'] == kod]['Kredit.4'][:1])\n",
      "C:\\Users\\adam0\\AppData\\Local\\Temp\\ipykernel_22264\\400692969.py:36: FutureWarning: Calling int on a single element Series is deprecated and will raise a TypeError in the future. Use int(ser.iloc[0]) instead\n",
      "  eredmenyek4_kredit2 += int(df[df['Kód:.4'] == kod]['Kredit.4'][:1])\n",
      "C:\\Users\\adam0\\AppData\\Local\\Temp\\ipykernel_22264\\400692969.py:36: FutureWarning: Calling int on a single element Series is deprecated and will raise a TypeError in the future. Use int(ser.iloc[0]) instead\n",
      "  eredmenyek4_kredit2 += int(df[df['Kód:.4'] == kod]['Kredit.4'][:1])\n",
      "C:\\Users\\adam0\\AppData\\Local\\Temp\\ipykernel_22264\\400692969.py:36: FutureWarning: Calling int on a single element Series is deprecated and will raise a TypeError in the future. Use int(ser.iloc[0]) instead\n",
      "  eredmenyek4_kredit2 += int(df[df['Kód:.4'] == kod]['Kredit.4'][:1])\n",
      "C:\\Users\\adam0\\AppData\\Local\\Temp\\ipykernel_22264\\400692969.py:36: FutureWarning: Calling int on a single element Series is deprecated and will raise a TypeError in the future. Use int(ser.iloc[0]) instead\n",
      "  eredmenyek4_kredit2 += int(df[df['Kód:.4'] == kod]['Kredit.4'][:1])\n",
      "C:\\Users\\adam0\\AppData\\Local\\Temp\\ipykernel_22264\\400692969.py:36: FutureWarning: Calling int on a single element Series is deprecated and will raise a TypeError in the future. Use int(ser.iloc[0]) instead\n",
      "  eredmenyek4_kredit2 += int(df[df['Kód:.4'] == kod]['Kredit.4'][:1])\n",
      "C:\\Users\\adam0\\AppData\\Local\\Temp\\ipykernel_22264\\400692969.py:36: FutureWarning: Calling int on a single element Series is deprecated and will raise a TypeError in the future. Use int(ser.iloc[0]) instead\n",
      "  eredmenyek4_kredit2 += int(df[df['Kód:.4'] == kod]['Kredit.4'][:1])\n",
      "C:\\Users\\adam0\\AppData\\Local\\Temp\\ipykernel_22264\\400692969.py:36: FutureWarning: Calling int on a single element Series is deprecated and will raise a TypeError in the future. Use int(ser.iloc[0]) instead\n",
      "  eredmenyek4_kredit2 += int(df[df['Kód:.4'] == kod]['Kredit.4'][:1])\n",
      "C:\\Users\\adam0\\AppData\\Local\\Temp\\ipykernel_22264\\400692969.py:36: FutureWarning: Calling int on a single element Series is deprecated and will raise a TypeError in the future. Use int(ser.iloc[0]) instead\n",
      "  eredmenyek4_kredit2 += int(df[df['Kód:.4'] == kod]['Kredit.4'][:1])\n",
      "C:\\Users\\adam0\\AppData\\Local\\Temp\\ipykernel_22264\\400692969.py:36: FutureWarning: Calling int on a single element Series is deprecated and will raise a TypeError in the future. Use int(ser.iloc[0]) instead\n",
      "  eredmenyek4_kredit2 += int(df[df['Kód:.4'] == kod]['Kredit.4'][:1])\n",
      "C:\\Users\\adam0\\AppData\\Local\\Temp\\ipykernel_22264\\400692969.py:36: FutureWarning: Calling int on a single element Series is deprecated and will raise a TypeError in the future. Use int(ser.iloc[0]) instead\n",
      "  eredmenyek4_kredit2 += int(df[df['Kód:.4'] == kod]['Kredit.4'][:1])\n",
      "C:\\Users\\adam0\\AppData\\Local\\Temp\\ipykernel_22264\\400692969.py:36: FutureWarning: Calling int on a single element Series is deprecated and will raise a TypeError in the future. Use int(ser.iloc[0]) instead\n",
      "  eredmenyek4_kredit2 += int(df[df['Kód:.4'] == kod]['Kredit.4'][:1])\n",
      "C:\\Users\\adam0\\AppData\\Local\\Temp\\ipykernel_22264\\400692969.py:36: FutureWarning: Calling int on a single element Series is deprecated and will raise a TypeError in the future. Use int(ser.iloc[0]) instead\n",
      "  eredmenyek4_kredit2 += int(df[df['Kód:.4'] == kod]['Kredit.4'][:1])\n",
      "C:\\Users\\adam0\\AppData\\Local\\Temp\\ipykernel_22264\\400692969.py:42: FutureWarning: Calling int on a single element Series is deprecated and will raise a TypeError in the future. Use int(ser.iloc[0]) instead\n",
      "  eredmenyek3_kredit2 += int(df[df['Kód:.3'] == kod]['Kredit.3'][:1])\n",
      "C:\\Users\\adam0\\AppData\\Local\\Temp\\ipykernel_22264\\400692969.py:42: FutureWarning: Calling int on a single element Series is deprecated and will raise a TypeError in the future. Use int(ser.iloc[0]) instead\n",
      "  eredmenyek3_kredit2 += int(df[df['Kód:.3'] == kod]['Kredit.3'][:1])\n",
      "C:\\Users\\adam0\\AppData\\Local\\Temp\\ipykernel_22264\\400692969.py:42: FutureWarning: Calling int on a single element Series is deprecated and will raise a TypeError in the future. Use int(ser.iloc[0]) instead\n",
      "  eredmenyek3_kredit2 += int(df[df['Kód:.3'] == kod]['Kredit.3'][:1])\n",
      "C:\\Users\\adam0\\AppData\\Local\\Temp\\ipykernel_22264\\400692969.py:42: FutureWarning: Calling int on a single element Series is deprecated and will raise a TypeError in the future. Use int(ser.iloc[0]) instead\n",
      "  eredmenyek3_kredit2 += int(df[df['Kód:.3'] == kod]['Kredit.3'][:1])\n",
      "C:\\Users\\adam0\\AppData\\Local\\Temp\\ipykernel_22264\\400692969.py:42: FutureWarning: Calling int on a single element Series is deprecated and will raise a TypeError in the future. Use int(ser.iloc[0]) instead\n",
      "  eredmenyek3_kredit2 += int(df[df['Kód:.3'] == kod]['Kredit.3'][:1])\n",
      "C:\\Users\\adam0\\AppData\\Local\\Temp\\ipykernel_22264\\400692969.py:42: FutureWarning: Calling int on a single element Series is deprecated and will raise a TypeError in the future. Use int(ser.iloc[0]) instead\n",
      "  eredmenyek3_kredit2 += int(df[df['Kód:.3'] == kod]['Kredit.3'][:1])\n",
      "C:\\Users\\adam0\\AppData\\Local\\Temp\\ipykernel_22264\\400692969.py:42: FutureWarning: Calling int on a single element Series is deprecated and will raise a TypeError in the future. Use int(ser.iloc[0]) instead\n",
      "  eredmenyek3_kredit2 += int(df[df['Kód:.3'] == kod]['Kredit.3'][:1])\n",
      "C:\\Users\\adam0\\AppData\\Local\\Temp\\ipykernel_22264\\400692969.py:42: FutureWarning: Calling int on a single element Series is deprecated and will raise a TypeError in the future. Use int(ser.iloc[0]) instead\n",
      "  eredmenyek3_kredit2 += int(df[df['Kód:.3'] == kod]['Kredit.3'][:1])\n",
      "C:\\Users\\adam0\\AppData\\Local\\Temp\\ipykernel_22264\\400692969.py:42: FutureWarning: Calling int on a single element Series is deprecated and will raise a TypeError in the future. Use int(ser.iloc[0]) instead\n",
      "  eredmenyek3_kredit2 += int(df[df['Kód:.3'] == kod]['Kredit.3'][:1])\n",
      "C:\\Users\\adam0\\AppData\\Local\\Temp\\ipykernel_22264\\400692969.py:42: FutureWarning: Calling int on a single element Series is deprecated and will raise a TypeError in the future. Use int(ser.iloc[0]) instead\n",
      "  eredmenyek3_kredit2 += int(df[df['Kód:.3'] == kod]['Kredit.3'][:1])\n",
      "C:\\Users\\adam0\\AppData\\Local\\Temp\\ipykernel_22264\\400692969.py:42: FutureWarning: Calling int on a single element Series is deprecated and will raise a TypeError in the future. Use int(ser.iloc[0]) instead\n",
      "  eredmenyek3_kredit2 += int(df[df['Kód:.3'] == kod]['Kredit.3'][:1])\n",
      "C:\\Users\\adam0\\AppData\\Local\\Temp\\ipykernel_22264\\400692969.py:42: FutureWarning: Calling int on a single element Series is deprecated and will raise a TypeError in the future. Use int(ser.iloc[0]) instead\n",
      "  eredmenyek3_kredit2 += int(df[df['Kód:.3'] == kod]['Kredit.3'][:1])\n",
      "C:\\Users\\adam0\\AppData\\Local\\Temp\\ipykernel_22264\\400692969.py:42: FutureWarning: Calling int on a single element Series is deprecated and will raise a TypeError in the future. Use int(ser.iloc[0]) instead\n",
      "  eredmenyek3_kredit2 += int(df[df['Kód:.3'] == kod]['Kredit.3'][:1])\n",
      "C:\\Users\\adam0\\AppData\\Local\\Temp\\ipykernel_22264\\400692969.py:42: FutureWarning: Calling int on a single element Series is deprecated and will raise a TypeError in the future. Use int(ser.iloc[0]) instead\n",
      "  eredmenyek3_kredit2 += int(df[df['Kód:.3'] == kod]['Kredit.3'][:1])\n",
      "C:\\Users\\adam0\\AppData\\Local\\Temp\\ipykernel_22264\\400692969.py:42: FutureWarning: Calling int on a single element Series is deprecated and will raise a TypeError in the future. Use int(ser.iloc[0]) instead\n",
      "  eredmenyek3_kredit2 += int(df[df['Kód:.3'] == kod]['Kredit.3'][:1])\n",
      "C:\\Users\\adam0\\AppData\\Local\\Temp\\ipykernel_22264\\400692969.py:42: FutureWarning: Calling int on a single element Series is deprecated and will raise a TypeError in the future. Use int(ser.iloc[0]) instead\n",
      "  eredmenyek3_kredit2 += int(df[df['Kód:.3'] == kod]['Kredit.3'][:1])\n",
      "C:\\Users\\adam0\\AppData\\Local\\Temp\\ipykernel_22264\\400692969.py:42: FutureWarning: Calling int on a single element Series is deprecated and will raise a TypeError in the future. Use int(ser.iloc[0]) instead\n",
      "  eredmenyek3_kredit2 += int(df[df['Kód:.3'] == kod]['Kredit.3'][:1])\n",
      "C:\\Users\\adam0\\AppData\\Local\\Temp\\ipykernel_22264\\400692969.py:42: FutureWarning: Calling int on a single element Series is deprecated and will raise a TypeError in the future. Use int(ser.iloc[0]) instead\n",
      "  eredmenyek3_kredit2 += int(df[df['Kód:.3'] == kod]['Kredit.3'][:1])\n",
      "C:\\Users\\adam0\\AppData\\Local\\Temp\\ipykernel_22264\\400692969.py:42: FutureWarning: Calling int on a single element Series is deprecated and will raise a TypeError in the future. Use int(ser.iloc[0]) instead\n",
      "  eredmenyek3_kredit2 += int(df[df['Kód:.3'] == kod]['Kredit.3'][:1])\n",
      "C:\\Users\\adam0\\AppData\\Local\\Temp\\ipykernel_22264\\400692969.py:42: FutureWarning: Calling int on a single element Series is deprecated and will raise a TypeError in the future. Use int(ser.iloc[0]) instead\n",
      "  eredmenyek3_kredit2 += int(df[df['Kód:.3'] == kod]['Kredit.3'][:1])\n",
      "C:\\Users\\adam0\\AppData\\Local\\Temp\\ipykernel_22264\\400692969.py:42: FutureWarning: Calling int on a single element Series is deprecated and will raise a TypeError in the future. Use int(ser.iloc[0]) instead\n",
      "  eredmenyek3_kredit2 += int(df[df['Kód:.3'] == kod]['Kredit.3'][:1])\n",
      "C:\\Users\\adam0\\AppData\\Local\\Temp\\ipykernel_22264\\400692969.py:42: FutureWarning: Calling int on a single element Series is deprecated and will raise a TypeError in the future. Use int(ser.iloc[0]) instead\n",
      "  eredmenyek3_kredit2 += int(df[df['Kód:.3'] == kod]['Kredit.3'][:1])\n",
      "C:\\Users\\adam0\\AppData\\Local\\Temp\\ipykernel_22264\\400692969.py:42: FutureWarning: Calling int on a single element Series is deprecated and will raise a TypeError in the future. Use int(ser.iloc[0]) instead\n",
      "  eredmenyek3_kredit2 += int(df[df['Kód:.3'] == kod]['Kredit.3'][:1])\n",
      "C:\\Users\\adam0\\AppData\\Local\\Temp\\ipykernel_22264\\400692969.py:42: FutureWarning: Calling int on a single element Series is deprecated and will raise a TypeError in the future. Use int(ser.iloc[0]) instead\n",
      "  eredmenyek3_kredit2 += int(df[df['Kód:.3'] == kod]['Kredit.3'][:1])\n",
      "C:\\Users\\adam0\\AppData\\Local\\Temp\\ipykernel_22264\\400692969.py:42: FutureWarning: Calling int on a single element Series is deprecated and will raise a TypeError in the future. Use int(ser.iloc[0]) instead\n",
      "  eredmenyek3_kredit2 += int(df[df['Kód:.3'] == kod]['Kredit.3'][:1])\n",
      "C:\\Users\\adam0\\AppData\\Local\\Temp\\ipykernel_22264\\400692969.py:42: FutureWarning: Calling int on a single element Series is deprecated and will raise a TypeError in the future. Use int(ser.iloc[0]) instead\n",
      "  eredmenyek3_kredit2 += int(df[df['Kód:.3'] == kod]['Kredit.3'][:1])\n",
      "C:\\Users\\adam0\\AppData\\Local\\Temp\\ipykernel_22264\\400692969.py:42: FutureWarning: Calling int on a single element Series is deprecated and will raise a TypeError in the future. Use int(ser.iloc[0]) instead\n",
      "  eredmenyek3_kredit2 += int(df[df['Kód:.3'] == kod]['Kredit.3'][:1])\n",
      "C:\\Users\\adam0\\AppData\\Local\\Temp\\ipykernel_22264\\400692969.py:42: FutureWarning: Calling int on a single element Series is deprecated and will raise a TypeError in the future. Use int(ser.iloc[0]) instead\n",
      "  eredmenyek3_kredit2 += int(df[df['Kód:.3'] == kod]['Kredit.3'][:1])\n",
      "C:\\Users\\adam0\\AppData\\Local\\Temp\\ipykernel_22264\\400692969.py:42: FutureWarning: Calling int on a single element Series is deprecated and will raise a TypeError in the future. Use int(ser.iloc[0]) instead\n",
      "  eredmenyek3_kredit2 += int(df[df['Kód:.3'] == kod]['Kredit.3'][:1])\n",
      "C:\\Users\\adam0\\AppData\\Local\\Temp\\ipykernel_22264\\400692969.py:42: FutureWarning: Calling int on a single element Series is deprecated and will raise a TypeError in the future. Use int(ser.iloc[0]) instead\n",
      "  eredmenyek3_kredit2 += int(df[df['Kód:.3'] == kod]['Kredit.3'][:1])\n",
      "C:\\Users\\adam0\\AppData\\Local\\Temp\\ipykernel_22264\\400692969.py:42: FutureWarning: Calling int on a single element Series is deprecated and will raise a TypeError in the future. Use int(ser.iloc[0]) instead\n",
      "  eredmenyek3_kredit2 += int(df[df['Kód:.3'] == kod]['Kredit.3'][:1])\n",
      "C:\\Users\\adam0\\AppData\\Local\\Temp\\ipykernel_22264\\400692969.py:42: FutureWarning: Calling int on a single element Series is deprecated and will raise a TypeError in the future. Use int(ser.iloc[0]) instead\n",
      "  eredmenyek3_kredit2 += int(df[df['Kód:.3'] == kod]['Kredit.3'][:1])\n",
      "C:\\Users\\adam0\\AppData\\Local\\Temp\\ipykernel_22264\\400692969.py:42: FutureWarning: Calling int on a single element Series is deprecated and will raise a TypeError in the future. Use int(ser.iloc[0]) instead\n",
      "  eredmenyek3_kredit2 += int(df[df['Kód:.3'] == kod]['Kredit.3'][:1])\n",
      "C:\\Users\\adam0\\AppData\\Local\\Temp\\ipykernel_22264\\400692969.py:42: FutureWarning: Calling int on a single element Series is deprecated and will raise a TypeError in the future. Use int(ser.iloc[0]) instead\n",
      "  eredmenyek3_kredit2 += int(df[df['Kód:.3'] == kod]['Kredit.3'][:1])\n",
      "C:\\Users\\adam0\\AppData\\Local\\Temp\\ipykernel_22264\\400692969.py:42: FutureWarning: Calling int on a single element Series is deprecated and will raise a TypeError in the future. Use int(ser.iloc[0]) instead\n",
      "  eredmenyek3_kredit2 += int(df[df['Kód:.3'] == kod]['Kredit.3'][:1])\n",
      "C:\\Users\\adam0\\AppData\\Local\\Temp\\ipykernel_22264\\400692969.py:42: FutureWarning: Calling int on a single element Series is deprecated and will raise a TypeError in the future. Use int(ser.iloc[0]) instead\n",
      "  eredmenyek3_kredit2 += int(df[df['Kód:.3'] == kod]['Kredit.3'][:1])\n",
      "C:\\Users\\adam0\\AppData\\Local\\Temp\\ipykernel_22264\\400692969.py:42: FutureWarning: Calling int on a single element Series is deprecated and will raise a TypeError in the future. Use int(ser.iloc[0]) instead\n",
      "  eredmenyek3_kredit2 += int(df[df['Kód:.3'] == kod]['Kredit.3'][:1])\n",
      "C:\\Users\\adam0\\AppData\\Local\\Temp\\ipykernel_22264\\400692969.py:42: FutureWarning: Calling int on a single element Series is deprecated and will raise a TypeError in the future. Use int(ser.iloc[0]) instead\n",
      "  eredmenyek3_kredit2 += int(df[df['Kód:.3'] == kod]['Kredit.3'][:1])\n",
      "C:\\Users\\adam0\\AppData\\Local\\Temp\\ipykernel_22264\\400692969.py:42: FutureWarning: Calling int on a single element Series is deprecated and will raise a TypeError in the future. Use int(ser.iloc[0]) instead\n",
      "  eredmenyek3_kredit2 += int(df[df['Kód:.3'] == kod]['Kredit.3'][:1])\n",
      "C:\\Users\\adam0\\AppData\\Local\\Temp\\ipykernel_22264\\400692969.py:42: FutureWarning: Calling int on a single element Series is deprecated and will raise a TypeError in the future. Use int(ser.iloc[0]) instead\n",
      "  eredmenyek3_kredit2 += int(df[df['Kód:.3'] == kod]['Kredit.3'][:1])\n",
      "C:\\Users\\adam0\\AppData\\Local\\Temp\\ipykernel_22264\\400692969.py:42: FutureWarning: Calling int on a single element Series is deprecated and will raise a TypeError in the future. Use int(ser.iloc[0]) instead\n",
      "  eredmenyek3_kredit2 += int(df[df['Kód:.3'] == kod]['Kredit.3'][:1])\n",
      "C:\\Users\\adam0\\AppData\\Local\\Temp\\ipykernel_22264\\400692969.py:47: FutureWarning: Calling int on a single element Series is deprecated and will raise a TypeError in the future. Use int(ser.iloc[0]) instead\n",
      "  eredmenyek2_kredit2 += int(df[df['Kód:.2'] == kod]['Kredit.2'][:1])\n",
      "C:\\Users\\adam0\\AppData\\Local\\Temp\\ipykernel_22264\\400692969.py:36: FutureWarning: Calling int on a single element Series is deprecated and will raise a TypeError in the future. Use int(ser.iloc[0]) instead\n",
      "  eredmenyek4_kredit2 += int(df[df['Kód:.4'] == kod]['Kredit.4'][:1])\n",
      "C:\\Users\\adam0\\AppData\\Local\\Temp\\ipykernel_22264\\400692969.py:36: FutureWarning: Calling int on a single element Series is deprecated and will raise a TypeError in the future. Use int(ser.iloc[0]) instead\n",
      "  eredmenyek4_kredit2 += int(df[df['Kód:.4'] == kod]['Kredit.4'][:1])\n",
      "C:\\Users\\adam0\\AppData\\Local\\Temp\\ipykernel_22264\\400692969.py:36: FutureWarning: Calling int on a single element Series is deprecated and will raise a TypeError in the future. Use int(ser.iloc[0]) instead\n",
      "  eredmenyek4_kredit2 += int(df[df['Kód:.4'] == kod]['Kredit.4'][:1])\n",
      "C:\\Users\\adam0\\AppData\\Local\\Temp\\ipykernel_22264\\400692969.py:36: FutureWarning: Calling int on a single element Series is deprecated and will raise a TypeError in the future. Use int(ser.iloc[0]) instead\n",
      "  eredmenyek4_kredit2 += int(df[df['Kód:.4'] == kod]['Kredit.4'][:1])\n",
      "C:\\Users\\adam0\\AppData\\Local\\Temp\\ipykernel_22264\\400692969.py:36: FutureWarning: Calling int on a single element Series is deprecated and will raise a TypeError in the future. Use int(ser.iloc[0]) instead\n",
      "  eredmenyek4_kredit2 += int(df[df['Kód:.4'] == kod]['Kredit.4'][:1])\n",
      "C:\\Users\\adam0\\AppData\\Local\\Temp\\ipykernel_22264\\400692969.py:36: FutureWarning: Calling int on a single element Series is deprecated and will raise a TypeError in the future. Use int(ser.iloc[0]) instead\n",
      "  eredmenyek4_kredit2 += int(df[df['Kód:.4'] == kod]['Kredit.4'][:1])\n",
      "C:\\Users\\adam0\\AppData\\Local\\Temp\\ipykernel_22264\\400692969.py:36: FutureWarning: Calling int on a single element Series is deprecated and will raise a TypeError in the future. Use int(ser.iloc[0]) instead\n",
      "  eredmenyek4_kredit2 += int(df[df['Kód:.4'] == kod]['Kredit.4'][:1])\n",
      "C:\\Users\\adam0\\AppData\\Local\\Temp\\ipykernel_22264\\400692969.py:36: FutureWarning: Calling int on a single element Series is deprecated and will raise a TypeError in the future. Use int(ser.iloc[0]) instead\n",
      "  eredmenyek4_kredit2 += int(df[df['Kód:.4'] == kod]['Kredit.4'][:1])\n",
      "C:\\Users\\adam0\\AppData\\Local\\Temp\\ipykernel_22264\\400692969.py:36: FutureWarning: Calling int on a single element Series is deprecated and will raise a TypeError in the future. Use int(ser.iloc[0]) instead\n",
      "  eredmenyek4_kredit2 += int(df[df['Kód:.4'] == kod]['Kredit.4'][:1])\n",
      "C:\\Users\\adam0\\AppData\\Local\\Temp\\ipykernel_22264\\400692969.py:36: FutureWarning: Calling int on a single element Series is deprecated and will raise a TypeError in the future. Use int(ser.iloc[0]) instead\n",
      "  eredmenyek4_kredit2 += int(df[df['Kód:.4'] == kod]['Kredit.4'][:1])\n",
      "C:\\Users\\adam0\\AppData\\Local\\Temp\\ipykernel_22264\\400692969.py:36: FutureWarning: Calling int on a single element Series is deprecated and will raise a TypeError in the future. Use int(ser.iloc[0]) instead\n",
      "  eredmenyek4_kredit2 += int(df[df['Kód:.4'] == kod]['Kredit.4'][:1])\n",
      "C:\\Users\\adam0\\AppData\\Local\\Temp\\ipykernel_22264\\400692969.py:36: FutureWarning: Calling int on a single element Series is deprecated and will raise a TypeError in the future. Use int(ser.iloc[0]) instead\n",
      "  eredmenyek4_kredit2 += int(df[df['Kód:.4'] == kod]['Kredit.4'][:1])\n",
      "C:\\Users\\adam0\\AppData\\Local\\Temp\\ipykernel_22264\\400692969.py:36: FutureWarning: Calling int on a single element Series is deprecated and will raise a TypeError in the future. Use int(ser.iloc[0]) instead\n",
      "  eredmenyek4_kredit2 += int(df[df['Kód:.4'] == kod]['Kredit.4'][:1])\n",
      "C:\\Users\\adam0\\AppData\\Local\\Temp\\ipykernel_22264\\400692969.py:36: FutureWarning: Calling int on a single element Series is deprecated and will raise a TypeError in the future. Use int(ser.iloc[0]) instead\n",
      "  eredmenyek4_kredit2 += int(df[df['Kód:.4'] == kod]['Kredit.4'][:1])\n",
      "C:\\Users\\adam0\\AppData\\Local\\Temp\\ipykernel_22264\\400692969.py:36: FutureWarning: Calling int on a single element Series is deprecated and will raise a TypeError in the future. Use int(ser.iloc[0]) instead\n",
      "  eredmenyek4_kredit2 += int(df[df['Kód:.4'] == kod]['Kredit.4'][:1])\n",
      "C:\\Users\\adam0\\AppData\\Local\\Temp\\ipykernel_22264\\400692969.py:36: FutureWarning: Calling int on a single element Series is deprecated and will raise a TypeError in the future. Use int(ser.iloc[0]) instead\n",
      "  eredmenyek4_kredit2 += int(df[df['Kód:.4'] == kod]['Kredit.4'][:1])\n",
      "C:\\Users\\adam0\\AppData\\Local\\Temp\\ipykernel_22264\\400692969.py:36: FutureWarning: Calling int on a single element Series is deprecated and will raise a TypeError in the future. Use int(ser.iloc[0]) instead\n",
      "  eredmenyek4_kredit2 += int(df[df['Kód:.4'] == kod]['Kredit.4'][:1])\n",
      "C:\\Users\\adam0\\AppData\\Local\\Temp\\ipykernel_22264\\400692969.py:36: FutureWarning: Calling int on a single element Series is deprecated and will raise a TypeError in the future. Use int(ser.iloc[0]) instead\n",
      "  eredmenyek4_kredit2 += int(df[df['Kód:.4'] == kod]['Kredit.4'][:1])\n",
      "C:\\Users\\adam0\\AppData\\Local\\Temp\\ipykernel_22264\\400692969.py:36: FutureWarning: Calling int on a single element Series is deprecated and will raise a TypeError in the future. Use int(ser.iloc[0]) instead\n",
      "  eredmenyek4_kredit2 += int(df[df['Kód:.4'] == kod]['Kredit.4'][:1])\n",
      "C:\\Users\\adam0\\AppData\\Local\\Temp\\ipykernel_22264\\400692969.py:36: FutureWarning: Calling int on a single element Series is deprecated and will raise a TypeError in the future. Use int(ser.iloc[0]) instead\n",
      "  eredmenyek4_kredit2 += int(df[df['Kód:.4'] == kod]['Kredit.4'][:1])\n",
      "C:\\Users\\adam0\\AppData\\Local\\Temp\\ipykernel_22264\\400692969.py:36: FutureWarning: Calling int on a single element Series is deprecated and will raise a TypeError in the future. Use int(ser.iloc[0]) instead\n",
      "  eredmenyek4_kredit2 += int(df[df['Kód:.4'] == kod]['Kredit.4'][:1])\n",
      "C:\\Users\\adam0\\AppData\\Local\\Temp\\ipykernel_22264\\400692969.py:36: FutureWarning: Calling int on a single element Series is deprecated and will raise a TypeError in the future. Use int(ser.iloc[0]) instead\n",
      "  eredmenyek4_kredit2 += int(df[df['Kód:.4'] == kod]['Kredit.4'][:1])\n",
      "C:\\Users\\adam0\\AppData\\Local\\Temp\\ipykernel_22264\\400692969.py:42: FutureWarning: Calling int on a single element Series is deprecated and will raise a TypeError in the future. Use int(ser.iloc[0]) instead\n",
      "  eredmenyek3_kredit2 += int(df[df['Kód:.3'] == kod]['Kredit.3'][:1])\n",
      "C:\\Users\\adam0\\AppData\\Local\\Temp\\ipykernel_22264\\400692969.py:42: FutureWarning: Calling int on a single element Series is deprecated and will raise a TypeError in the future. Use int(ser.iloc[0]) instead\n",
      "  eredmenyek3_kredit2 += int(df[df['Kód:.3'] == kod]['Kredit.3'][:1])\n",
      "C:\\Users\\adam0\\AppData\\Local\\Temp\\ipykernel_22264\\400692969.py:42: FutureWarning: Calling int on a single element Series is deprecated and will raise a TypeError in the future. Use int(ser.iloc[0]) instead\n",
      "  eredmenyek3_kredit2 += int(df[df['Kód:.3'] == kod]['Kredit.3'][:1])\n",
      "C:\\Users\\adam0\\AppData\\Local\\Temp\\ipykernel_22264\\400692969.py:42: FutureWarning: Calling int on a single element Series is deprecated and will raise a TypeError in the future. Use int(ser.iloc[0]) instead\n",
      "  eredmenyek3_kredit2 += int(df[df['Kód:.3'] == kod]['Kredit.3'][:1])\n",
      "C:\\Users\\adam0\\AppData\\Local\\Temp\\ipykernel_22264\\400692969.py:42: FutureWarning: Calling int on a single element Series is deprecated and will raise a TypeError in the future. Use int(ser.iloc[0]) instead\n",
      "  eredmenyek3_kredit2 += int(df[df['Kód:.3'] == kod]['Kredit.3'][:1])\n",
      "C:\\Users\\adam0\\AppData\\Local\\Temp\\ipykernel_22264\\400692969.py:42: FutureWarning: Calling int on a single element Series is deprecated and will raise a TypeError in the future. Use int(ser.iloc[0]) instead\n",
      "  eredmenyek3_kredit2 += int(df[df['Kód:.3'] == kod]['Kredit.3'][:1])\n",
      "C:\\Users\\adam0\\AppData\\Local\\Temp\\ipykernel_22264\\400692969.py:42: FutureWarning: Calling int on a single element Series is deprecated and will raise a TypeError in the future. Use int(ser.iloc[0]) instead\n",
      "  eredmenyek3_kredit2 += int(df[df['Kód:.3'] == kod]['Kredit.3'][:1])\n",
      "C:\\Users\\adam0\\AppData\\Local\\Temp\\ipykernel_22264\\400692969.py:42: FutureWarning: Calling int on a single element Series is deprecated and will raise a TypeError in the future. Use int(ser.iloc[0]) instead\n",
      "  eredmenyek3_kredit2 += int(df[df['Kód:.3'] == kod]['Kredit.3'][:1])\n",
      "C:\\Users\\adam0\\AppData\\Local\\Temp\\ipykernel_22264\\400692969.py:42: FutureWarning: Calling int on a single element Series is deprecated and will raise a TypeError in the future. Use int(ser.iloc[0]) instead\n",
      "  eredmenyek3_kredit2 += int(df[df['Kód:.3'] == kod]['Kredit.3'][:1])\n",
      "C:\\Users\\adam0\\AppData\\Local\\Temp\\ipykernel_22264\\400692969.py:42: FutureWarning: Calling int on a single element Series is deprecated and will raise a TypeError in the future. Use int(ser.iloc[0]) instead\n",
      "  eredmenyek3_kredit2 += int(df[df['Kód:.3'] == kod]['Kredit.3'][:1])\n",
      "C:\\Users\\adam0\\AppData\\Local\\Temp\\ipykernel_22264\\400692969.py:42: FutureWarning: Calling int on a single element Series is deprecated and will raise a TypeError in the future. Use int(ser.iloc[0]) instead\n",
      "  eredmenyek3_kredit2 += int(df[df['Kód:.3'] == kod]['Kredit.3'][:1])\n",
      "C:\\Users\\adam0\\AppData\\Local\\Temp\\ipykernel_22264\\400692969.py:42: FutureWarning: Calling int on a single element Series is deprecated and will raise a TypeError in the future. Use int(ser.iloc[0]) instead\n",
      "  eredmenyek3_kredit2 += int(df[df['Kód:.3'] == kod]['Kredit.3'][:1])\n",
      "C:\\Users\\adam0\\AppData\\Local\\Temp\\ipykernel_22264\\400692969.py:42: FutureWarning: Calling int on a single element Series is deprecated and will raise a TypeError in the future. Use int(ser.iloc[0]) instead\n",
      "  eredmenyek3_kredit2 += int(df[df['Kód:.3'] == kod]['Kredit.3'][:1])\n",
      "C:\\Users\\adam0\\AppData\\Local\\Temp\\ipykernel_22264\\400692969.py:42: FutureWarning: Calling int on a single element Series is deprecated and will raise a TypeError in the future. Use int(ser.iloc[0]) instead\n",
      "  eredmenyek3_kredit2 += int(df[df['Kód:.3'] == kod]['Kredit.3'][:1])\n",
      "C:\\Users\\adam0\\AppData\\Local\\Temp\\ipykernel_22264\\400692969.py:42: FutureWarning: Calling int on a single element Series is deprecated and will raise a TypeError in the future. Use int(ser.iloc[0]) instead\n",
      "  eredmenyek3_kredit2 += int(df[df['Kód:.3'] == kod]['Kredit.3'][:1])\n",
      "C:\\Users\\adam0\\AppData\\Local\\Temp\\ipykernel_22264\\400692969.py:42: FutureWarning: Calling int on a single element Series is deprecated and will raise a TypeError in the future. Use int(ser.iloc[0]) instead\n",
      "  eredmenyek3_kredit2 += int(df[df['Kód:.3'] == kod]['Kredit.3'][:1])\n",
      "C:\\Users\\adam0\\AppData\\Local\\Temp\\ipykernel_22264\\400692969.py:42: FutureWarning: Calling int on a single element Series is deprecated and will raise a TypeError in the future. Use int(ser.iloc[0]) instead\n",
      "  eredmenyek3_kredit2 += int(df[df['Kód:.3'] == kod]['Kredit.3'][:1])\n",
      "C:\\Users\\adam0\\AppData\\Local\\Temp\\ipykernel_22264\\400692969.py:42: FutureWarning: Calling int on a single element Series is deprecated and will raise a TypeError in the future. Use int(ser.iloc[0]) instead\n",
      "  eredmenyek3_kredit2 += int(df[df['Kód:.3'] == kod]['Kredit.3'][:1])\n",
      "C:\\Users\\adam0\\AppData\\Local\\Temp\\ipykernel_22264\\400692969.py:42: FutureWarning: Calling int on a single element Series is deprecated and will raise a TypeError in the future. Use int(ser.iloc[0]) instead\n",
      "  eredmenyek3_kredit2 += int(df[df['Kód:.3'] == kod]['Kredit.3'][:1])\n",
      "C:\\Users\\adam0\\AppData\\Local\\Temp\\ipykernel_22264\\400692969.py:42: FutureWarning: Calling int on a single element Series is deprecated and will raise a TypeError in the future. Use int(ser.iloc[0]) instead\n",
      "  eredmenyek3_kredit2 += int(df[df['Kód:.3'] == kod]['Kredit.3'][:1])\n",
      "C:\\Users\\adam0\\AppData\\Local\\Temp\\ipykernel_22264\\400692969.py:42: FutureWarning: Calling int on a single element Series is deprecated and will raise a TypeError in the future. Use int(ser.iloc[0]) instead\n",
      "  eredmenyek3_kredit2 += int(df[df['Kód:.3'] == kod]['Kredit.3'][:1])\n",
      "C:\\Users\\adam0\\AppData\\Local\\Temp\\ipykernel_22264\\400692969.py:42: FutureWarning: Calling int on a single element Series is deprecated and will raise a TypeError in the future. Use int(ser.iloc[0]) instead\n",
      "  eredmenyek3_kredit2 += int(df[df['Kód:.3'] == kod]['Kredit.3'][:1])\n",
      "C:\\Users\\adam0\\AppData\\Local\\Temp\\ipykernel_22264\\400692969.py:42: FutureWarning: Calling int on a single element Series is deprecated and will raise a TypeError in the future. Use int(ser.iloc[0]) instead\n",
      "  eredmenyek3_kredit2 += int(df[df['Kód:.3'] == kod]['Kredit.3'][:1])\n",
      "C:\\Users\\adam0\\AppData\\Local\\Temp\\ipykernel_22264\\400692969.py:42: FutureWarning: Calling int on a single element Series is deprecated and will raise a TypeError in the future. Use int(ser.iloc[0]) instead\n",
      "  eredmenyek3_kredit2 += int(df[df['Kód:.3'] == kod]['Kredit.3'][:1])\n",
      "C:\\Users\\adam0\\AppData\\Local\\Temp\\ipykernel_22264\\400692969.py:42: FutureWarning: Calling int on a single element Series is deprecated and will raise a TypeError in the future. Use int(ser.iloc[0]) instead\n",
      "  eredmenyek3_kredit2 += int(df[df['Kód:.3'] == kod]['Kredit.3'][:1])\n",
      "C:\\Users\\adam0\\AppData\\Local\\Temp\\ipykernel_22264\\400692969.py:42: FutureWarning: Calling int on a single element Series is deprecated and will raise a TypeError in the future. Use int(ser.iloc[0]) instead\n",
      "  eredmenyek3_kredit2 += int(df[df['Kód:.3'] == kod]['Kredit.3'][:1])\n",
      "C:\\Users\\adam0\\AppData\\Local\\Temp\\ipykernel_22264\\400692969.py:42: FutureWarning: Calling int on a single element Series is deprecated and will raise a TypeError in the future. Use int(ser.iloc[0]) instead\n",
      "  eredmenyek3_kredit2 += int(df[df['Kód:.3'] == kod]['Kredit.3'][:1])\n",
      "C:\\Users\\adam0\\AppData\\Local\\Temp\\ipykernel_22264\\400692969.py:42: FutureWarning: Calling int on a single element Series is deprecated and will raise a TypeError in the future. Use int(ser.iloc[0]) instead\n",
      "  eredmenyek3_kredit2 += int(df[df['Kód:.3'] == kod]['Kredit.3'][:1])\n",
      "C:\\Users\\adam0\\AppData\\Local\\Temp\\ipykernel_22264\\400692969.py:42: FutureWarning: Calling int on a single element Series is deprecated and will raise a TypeError in the future. Use int(ser.iloc[0]) instead\n",
      "  eredmenyek3_kredit2 += int(df[df['Kód:.3'] == kod]['Kredit.3'][:1])\n",
      "C:\\Users\\adam0\\AppData\\Local\\Temp\\ipykernel_22264\\400692969.py:42: FutureWarning: Calling int on a single element Series is deprecated and will raise a TypeError in the future. Use int(ser.iloc[0]) instead\n",
      "  eredmenyek3_kredit2 += int(df[df['Kód:.3'] == kod]['Kredit.3'][:1])\n",
      "C:\\Users\\adam0\\AppData\\Local\\Temp\\ipykernel_22264\\400692969.py:42: FutureWarning: Calling int on a single element Series is deprecated and will raise a TypeError in the future. Use int(ser.iloc[0]) instead\n",
      "  eredmenyek3_kredit2 += int(df[df['Kód:.3'] == kod]['Kredit.3'][:1])\n",
      "C:\\Users\\adam0\\AppData\\Local\\Temp\\ipykernel_22264\\400692969.py:42: FutureWarning: Calling int on a single element Series is deprecated and will raise a TypeError in the future. Use int(ser.iloc[0]) instead\n",
      "  eredmenyek3_kredit2 += int(df[df['Kód:.3'] == kod]['Kredit.3'][:1])\n",
      "C:\\Users\\adam0\\AppData\\Local\\Temp\\ipykernel_22264\\400692969.py:42: FutureWarning: Calling int on a single element Series is deprecated and will raise a TypeError in the future. Use int(ser.iloc[0]) instead\n",
      "  eredmenyek3_kredit2 += int(df[df['Kód:.3'] == kod]['Kredit.3'][:1])\n",
      "C:\\Users\\adam0\\AppData\\Local\\Temp\\ipykernel_22264\\400692969.py:42: FutureWarning: Calling int on a single element Series is deprecated and will raise a TypeError in the future. Use int(ser.iloc[0]) instead\n",
      "  eredmenyek3_kredit2 += int(df[df['Kód:.3'] == kod]['Kredit.3'][:1])\n",
      "C:\\Users\\adam0\\AppData\\Local\\Temp\\ipykernel_22264\\400692969.py:42: FutureWarning: Calling int on a single element Series is deprecated and will raise a TypeError in the future. Use int(ser.iloc[0]) instead\n",
      "  eredmenyek3_kredit2 += int(df[df['Kód:.3'] == kod]['Kredit.3'][:1])\n",
      "C:\\Users\\adam0\\AppData\\Local\\Temp\\ipykernel_22264\\400692969.py:42: FutureWarning: Calling int on a single element Series is deprecated and will raise a TypeError in the future. Use int(ser.iloc[0]) instead\n",
      "  eredmenyek3_kredit2 += int(df[df['Kód:.3'] == kod]['Kredit.3'][:1])\n",
      "C:\\Users\\adam0\\AppData\\Local\\Temp\\ipykernel_22264\\400692969.py:42: FutureWarning: Calling int on a single element Series is deprecated and will raise a TypeError in the future. Use int(ser.iloc[0]) instead\n",
      "  eredmenyek3_kredit2 += int(df[df['Kód:.3'] == kod]['Kredit.3'][:1])\n",
      "C:\\Users\\adam0\\AppData\\Local\\Temp\\ipykernel_22264\\400692969.py:42: FutureWarning: Calling int on a single element Series is deprecated and will raise a TypeError in the future. Use int(ser.iloc[0]) instead\n",
      "  eredmenyek3_kredit2 += int(df[df['Kód:.3'] == kod]['Kredit.3'][:1])\n",
      "C:\\Users\\adam0\\AppData\\Local\\Temp\\ipykernel_22264\\400692969.py:42: FutureWarning: Calling int on a single element Series is deprecated and will raise a TypeError in the future. Use int(ser.iloc[0]) instead\n",
      "  eredmenyek3_kredit2 += int(df[df['Kód:.3'] == kod]['Kredit.3'][:1])\n",
      "C:\\Users\\adam0\\AppData\\Local\\Temp\\ipykernel_22264\\400692969.py:42: FutureWarning: Calling int on a single element Series is deprecated and will raise a TypeError in the future. Use int(ser.iloc[0]) instead\n",
      "  eredmenyek3_kredit2 += int(df[df['Kód:.3'] == kod]['Kredit.3'][:1])\n",
      "C:\\Users\\adam0\\AppData\\Local\\Temp\\ipykernel_22264\\400692969.py:42: FutureWarning: Calling int on a single element Series is deprecated and will raise a TypeError in the future. Use int(ser.iloc[0]) instead\n",
      "  eredmenyek3_kredit2 += int(df[df['Kód:.3'] == kod]['Kredit.3'][:1])\n",
      "C:\\Users\\adam0\\AppData\\Local\\Temp\\ipykernel_22264\\400692969.py:47: FutureWarning: Calling int on a single element Series is deprecated and will raise a TypeError in the future. Use int(ser.iloc[0]) instead\n",
      "  eredmenyek2_kredit2 += int(df[df['Kód:.2'] == kod]['Kredit.2'][:1])\n"
     ]
    }
   ],
   "source": [
    "import tabula\n",
    "# Integration of the additional code\n",
    "pdf_path = \"20171112___pti_bsc.pdf\"\n",
    "excel_output = \"output.xlsx\"\n",
    "csv_output = \"tablazat.csv\"\n",
    "\n",
    "tables = tabula.read_pdf(pdf_path, pages=\"all\", encoding='ISO-8859-1')\n",
    "\n",
    "pdf_output = pd.concat(tables, ignore_index=True)\n",
    "\n",
    "pdf_output.loc[-1] = pdf_output.columns\n",
    "pdf_output.index = pdf_output.index + 1\n",
    "pdf_output = pdf_output.sort_index()\n",
    "\n",
    "pdf_output.to_excel(excel_output, index=False)\n",
    "pdf_output.to_csv(csv_output, index=False)\n",
    "\n",
    "pd.read_excel('output.xlsx').to_csv(\"tablazat.csv\", header=True)\n",
    "pdf = pd.read_csv('tablazat.csv')\n",
    "pdf.fillna(0).head(47)\n",
    "\n",
    "merged_pdf = pd.concat([pdf[\"Diszkrét matematika I. ea\"], pdf[\"Programozás alapjai ea\"],\n",
    "                        pdf[\"Szakdolgozat készítése 1. (pti)\"]]).dropna()\n",
    "merged_kredit = pd.concat([pdf[\"MBNXK111E\"], pdf[\"IB104E\"], pdf[\"IB3000\"]]).dropna()\n",
    "merged_kredit.name = \"Tárgycsoport kódja\"\n",
    "merged_kredit = merged_kredit.reset_index(drop=True)\n",
    "merged_kredit = merged_kredit[~merged_kredit.str.isnumeric()]\n",
    "\n",
    "merged_pdf.name = \"Név\"\n",
    "merged_pdf = merged_pdf.reset_index(drop=True)\n",
    "merged_pdf = merged_pdf[~merged_pdf.str.isnumeric()]\n",
    "\n",
    "eredmenyek4_kredit2 = 0\n",
    "export_df2 = pd.DataFrame({'Név': [], 'Tárgycsoport kódja': []})\n",
    "for kod in eredmenyek4.intersection(eredmenyek_osszes):\n",
    "    eredmenyek4_kredit2 += int(df[df['Kód:.4'] == kod]['Kredit.4'][:1])\n",
    "    export_df2.loc[len(export_df2.index)] = [str(df[df['Kód:.4'] == kod]['Név.4'][:1].to_list()[0]),\n",
    "                                             str(df[df['Kód:.4'] == kod]['Tárgycsoport kódja.4'][:1].to_list()[0])]\n",
    "\n",
    "eredmenyek3_kredit2 = 0\n",
    "for kod in eredmenyek3.intersection(eredmenyek_osszes - eredmenyek4):\n",
    "    eredmenyek3_kredit2 += int(df[df['Kód:.3'] == kod]['Kredit.3'][:1])\n",
    "    export_df2.loc[len(export_df2.index)] = [str(df[df['Kód:.3'] == kod]['Név.3'][:1].to_list()[0]),\n",
    "                                             str(df[df['Kód:.3'] == kod]['Tárgycsoport kódja.3'][:1].to_list()[0])]\n",
    "eredmenyek2_kredit2 = 0\n",
    "for kod in eredmenyek2.intersection(eredmenyek_osszes - eredmenyek3 - eredmenyek4):\n",
    "    eredmenyek2_kredit2 += int(df[df['Kód:.2'] == kod]['Kredit.2'][:1])\n",
    "    export_df2.loc[len(export_df2.index)] = [str(df[df['Kód:.2'] == kod]['Név.2'][:1].to_list()[0]),\n",
    "                                             str(df[df['Kód:.2'] == kod]['Tárgycsoport kódja.2'][:1].to_list()[0])]\n",
    "\n",
    "export_df2 = export_df2.sort_values(by='Név', ascending=True).reset_index(drop=True)"
   ],
   "metadata": {
    "collapsed": false
   }
  },
  {
   "cell_type": "code",
   "execution_count": 249,
   "outputs": [
    {
     "data": {
      "text/plain": "                                 Név Tárgycsoport kódja\n0            A sztochasztika alapjai          MBNXK262G\n1            A sztochasztika alapjai          MBNXK262E\n2         Adatbázis alapú rendszerek             IB152e\n3   Adatbázis alapú rendszerek gyak.             IB152l\n4                        Adatbázisok             IB501e\n..                               ...                ...\n59        Számítógépes grafika gyak.             IB155l\n60                      Web tervezés             IB714e\n61                Web tervezés gyak.             IB714g\n62    Webfejlesztési keretrendszerek             IB471G\n63    Webfejlesztési keretrendszerek             IB471E\n\n[64 rows x 2 columns]",
      "text/html": "<div>\n<style scoped>\n    .dataframe tbody tr th:only-of-type {\n        vertical-align: middle;\n    }\n\n    .dataframe tbody tr th {\n        vertical-align: top;\n    }\n\n    .dataframe thead th {\n        text-align: right;\n    }\n</style>\n<table border=\"1\" class=\"dataframe\">\n  <thead>\n    <tr style=\"text-align: right;\">\n      <th></th>\n      <th>Név</th>\n      <th>Tárgycsoport kódja</th>\n    </tr>\n  </thead>\n  <tbody>\n    <tr>\n      <th>0</th>\n      <td>A sztochasztika alapjai</td>\n      <td>MBNXK262G</td>\n    </tr>\n    <tr>\n      <th>1</th>\n      <td>A sztochasztika alapjai</td>\n      <td>MBNXK262E</td>\n    </tr>\n    <tr>\n      <th>2</th>\n      <td>Adatbázis alapú rendszerek</td>\n      <td>IB152e</td>\n    </tr>\n    <tr>\n      <th>3</th>\n      <td>Adatbázis alapú rendszerek gyak.</td>\n      <td>IB152l</td>\n    </tr>\n    <tr>\n      <th>4</th>\n      <td>Adatbázisok</td>\n      <td>IB501e</td>\n    </tr>\n    <tr>\n      <th>...</th>\n      <td>...</td>\n      <td>...</td>\n    </tr>\n    <tr>\n      <th>59</th>\n      <td>Számítógépes grafika gyak.</td>\n      <td>IB155l</td>\n    </tr>\n    <tr>\n      <th>60</th>\n      <td>Web tervezés</td>\n      <td>IB714e</td>\n    </tr>\n    <tr>\n      <th>61</th>\n      <td>Web tervezés gyak.</td>\n      <td>IB714g</td>\n    </tr>\n    <tr>\n      <th>62</th>\n      <td>Webfejlesztési keretrendszerek</td>\n      <td>IB471G</td>\n    </tr>\n    <tr>\n      <th>63</th>\n      <td>Webfejlesztési keretrendszerek</td>\n      <td>IB471E</td>\n    </tr>\n  </tbody>\n</table>\n<p>64 rows × 2 columns</p>\n</div>"
     },
     "execution_count": 249,
     "metadata": {},
     "output_type": "execute_result"
    }
   ],
   "source": [
    "export_df2"
   ],
   "metadata": {
    "collapsed": false,
    "ExecuteTime": {
     "end_time": "2023-11-30T19:03:32.247158300Z",
     "start_time": "2023-11-30T19:03:32.240274100Z"
    }
   }
  },
  {
   "cell_type": "code",
   "execution_count": 253,
   "outputs": [],
   "source": [
    "merged_kredit = merged_kredit.str.upper()\n",
    "export_df2[\"Tárgycsoport kódja\"] = export_df2[\"Tárgycsoport kódja\"].str.upper()\n",
    "\n",
    "merged = pd.DataFrame(merged_pdf).join(merged_kredit)\n",
    "\n",
    "row_index = 2\n",
    "column_name = 'Tárgycsoport kódja'  # Replace with the column name\n",
    "new_value = 'MBNXK311E'  # Replace with the new value\n",
    "merged[column_name].loc[row_index] = new_value\n",
    "#\n",
    "row_index = 27\n",
    "column_name = 'Tárgycsoport kódja'  # Replace with the column name\n",
    "new_value = 'IB204E-00001'  # Replace with the new value\n",
    "merged[column_name].loc[row_index] = new_value\n",
    "#\n",
    "row_index = 28\n",
    "column_name = 'Tárgycsoport kódja'  # Replace with the column name\n",
    "new_value = 'IB204L'  # Replace with the new value\n",
    "merged[column_name].loc[row_index] = new_value\n",
    "#\n",
    "row_index = 46\n",
    "column_name = 'Tárgycsoport kódja'  # Replace with the column name\n",
    "new_value = 'IB3000G'  # Replace with the new value\n",
    "merged[column_name].loc[row_index] = new_value\n",
    "\n",
    "row_index = 47\n",
    "column_name = 'Tárgycsoport kódja'  # Replace with the column name\n",
    "new_value = 'IB3001G'  # Replace with the new value\n",
    "merged[column_name].loc[row_index] = new_value\n",
    "\n"
   ],
   "metadata": {
    "collapsed": false,
    "ExecuteTime": {
     "end_time": "2023-11-30T19:08:48.513596200Z",
     "start_time": "2023-11-30T19:08:48.494067500Z"
    }
   }
  },
  {
   "cell_type": "code",
   "execution_count": 254,
   "outputs": [
    {
     "data": {
      "text/plain": "                                         Név Tárgycsoport kódja\n0                  Diszkrét matematika I. ea          MBNXK111E\n1                  Diszkrét matematika I. gy          MBNXK111G\n2                             Kalkulus I. ea          MBNXK311E\n3                             Kalkulus I. gy          MBNXK311G\n4                 A sztochasztika alapjai ea          MBNXK262E\n5                 A sztochasztika alapjai gy          MBNXK262G\n6                 Alkalmazott statisztika ea           MBNX363E\n7                Alkalmazott statisztika lab           MBNX363G\n8                      Operációkutatás I. ea            IBK203E\n9                      Operációkutatás I. gy            IBK203G\n10  Közelítő és szimbolikus számítások I. ea            IBK301E\n11  Közelítő és szimbolikus számítások I. gy            IBK301G\n12     Algoritmusok és adatszerkezetek I. ea            IBK304E\n13     Algoritmusok és adatszerkezetek I. gy            IBK304G\n14           Mesterséges intelligencia I. ea            IBK154E\n15           Mesterséges intelligencia I. gy            IBK154G\n16                       Formális nyelvek ea            IBK403E\n17                       Formális nyelvek gy            IBK403G\n18    Logika és informatikai alkalmazásai ea            IBK604E\n19    Logika és informatikai alkalmazásai gy            IBK604G\n20                    Bonyolultságelmélet ea            IBK507E\n21                    Bonyolultságelmélet gy            IBK507G\n22                    Programozás alapjai ea             IB104E\n23                   Programozás alapjai lab             IB104L\n24               Számítógép architektúrák ea             IB162E\n25                   Operációs rendszerek ea             IB402E\n26                  Operációs rendszerek lab             IB402G\n27                         Programozás I. ea       IB204E-00001\n28                        Programozás I. lab             IB204L\n29                         Programozás II.ea             IB302E\n30                       Programozás II. lab             IB302G\n31                   Számítógép-hálózatok ea             IB407E\n32                  Számítógép-hálózatok lab             IB407G\n33                            Adatbázisok ea             IB501E\n34                           Adatbázisok lab             IB501G\n35                      Programozási nyelvek             IB405E\n36                      Programozási nyelvek             IB405G\n37                    Információbiztonság ea             IB716E\n38                   Információbiztonság lab             IB716L\n39                  Rendszerfejlesztés I. ea             IB153E\n40                 Rendszerfejlesztés I. lab             IB153L\n41                            Webtervezés ea             IB714E\n42                           Webtervezés lab             IB714G\n43               Digitális képfeldolgozás ea             IB042E\n44              Digitális képfeldolgozás lab             IB042G\n46           Szakdolgozat készítése 1. (pti)            IB3000G\n47           Szakdolgozat készítése 2. (pti)            IB3001G",
      "text/html": "<div>\n<style scoped>\n    .dataframe tbody tr th:only-of-type {\n        vertical-align: middle;\n    }\n\n    .dataframe tbody tr th {\n        vertical-align: top;\n    }\n\n    .dataframe thead th {\n        text-align: right;\n    }\n</style>\n<table border=\"1\" class=\"dataframe\">\n  <thead>\n    <tr style=\"text-align: right;\">\n      <th></th>\n      <th>Név</th>\n      <th>Tárgycsoport kódja</th>\n    </tr>\n  </thead>\n  <tbody>\n    <tr>\n      <th>0</th>\n      <td>Diszkrét matematika I. ea</td>\n      <td>MBNXK111E</td>\n    </tr>\n    <tr>\n      <th>1</th>\n      <td>Diszkrét matematika I. gy</td>\n      <td>MBNXK111G</td>\n    </tr>\n    <tr>\n      <th>2</th>\n      <td>Kalkulus I. ea</td>\n      <td>MBNXK311E</td>\n    </tr>\n    <tr>\n      <th>3</th>\n      <td>Kalkulus I. gy</td>\n      <td>MBNXK311G</td>\n    </tr>\n    <tr>\n      <th>4</th>\n      <td>A sztochasztika alapjai ea</td>\n      <td>MBNXK262E</td>\n    </tr>\n    <tr>\n      <th>5</th>\n      <td>A sztochasztika alapjai gy</td>\n      <td>MBNXK262G</td>\n    </tr>\n    <tr>\n      <th>6</th>\n      <td>Alkalmazott statisztika ea</td>\n      <td>MBNX363E</td>\n    </tr>\n    <tr>\n      <th>7</th>\n      <td>Alkalmazott statisztika lab</td>\n      <td>MBNX363G</td>\n    </tr>\n    <tr>\n      <th>8</th>\n      <td>Operációkutatás I. ea</td>\n      <td>IBK203E</td>\n    </tr>\n    <tr>\n      <th>9</th>\n      <td>Operációkutatás I. gy</td>\n      <td>IBK203G</td>\n    </tr>\n    <tr>\n      <th>10</th>\n      <td>Közelítő és szimbolikus számítások I. ea</td>\n      <td>IBK301E</td>\n    </tr>\n    <tr>\n      <th>11</th>\n      <td>Közelítő és szimbolikus számítások I. gy</td>\n      <td>IBK301G</td>\n    </tr>\n    <tr>\n      <th>12</th>\n      <td>Algoritmusok és adatszerkezetek I. ea</td>\n      <td>IBK304E</td>\n    </tr>\n    <tr>\n      <th>13</th>\n      <td>Algoritmusok és adatszerkezetek I. gy</td>\n      <td>IBK304G</td>\n    </tr>\n    <tr>\n      <th>14</th>\n      <td>Mesterséges intelligencia I. ea</td>\n      <td>IBK154E</td>\n    </tr>\n    <tr>\n      <th>15</th>\n      <td>Mesterséges intelligencia I. gy</td>\n      <td>IBK154G</td>\n    </tr>\n    <tr>\n      <th>16</th>\n      <td>Formális nyelvek ea</td>\n      <td>IBK403E</td>\n    </tr>\n    <tr>\n      <th>17</th>\n      <td>Formális nyelvek gy</td>\n      <td>IBK403G</td>\n    </tr>\n    <tr>\n      <th>18</th>\n      <td>Logika és informatikai alkalmazásai ea</td>\n      <td>IBK604E</td>\n    </tr>\n    <tr>\n      <th>19</th>\n      <td>Logika és informatikai alkalmazásai gy</td>\n      <td>IBK604G</td>\n    </tr>\n    <tr>\n      <th>20</th>\n      <td>Bonyolultságelmélet ea</td>\n      <td>IBK507E</td>\n    </tr>\n    <tr>\n      <th>21</th>\n      <td>Bonyolultságelmélet gy</td>\n      <td>IBK507G</td>\n    </tr>\n    <tr>\n      <th>22</th>\n      <td>Programozás alapjai ea</td>\n      <td>IB104E</td>\n    </tr>\n    <tr>\n      <th>23</th>\n      <td>Programozás alapjai lab</td>\n      <td>IB104L</td>\n    </tr>\n    <tr>\n      <th>24</th>\n      <td>Számítógép architektúrák ea</td>\n      <td>IB162E</td>\n    </tr>\n    <tr>\n      <th>25</th>\n      <td>Operációs rendszerek ea</td>\n      <td>IB402E</td>\n    </tr>\n    <tr>\n      <th>26</th>\n      <td>Operációs rendszerek lab</td>\n      <td>IB402G</td>\n    </tr>\n    <tr>\n      <th>27</th>\n      <td>Programozás I. ea</td>\n      <td>IB204E-00001</td>\n    </tr>\n    <tr>\n      <th>28</th>\n      <td>Programozás I. lab</td>\n      <td>IB204L</td>\n    </tr>\n    <tr>\n      <th>29</th>\n      <td>Programozás II.ea</td>\n      <td>IB302E</td>\n    </tr>\n    <tr>\n      <th>30</th>\n      <td>Programozás II. lab</td>\n      <td>IB302G</td>\n    </tr>\n    <tr>\n      <th>31</th>\n      <td>Számítógép-hálózatok ea</td>\n      <td>IB407E</td>\n    </tr>\n    <tr>\n      <th>32</th>\n      <td>Számítógép-hálózatok lab</td>\n      <td>IB407G</td>\n    </tr>\n    <tr>\n      <th>33</th>\n      <td>Adatbázisok ea</td>\n      <td>IB501E</td>\n    </tr>\n    <tr>\n      <th>34</th>\n      <td>Adatbázisok lab</td>\n      <td>IB501G</td>\n    </tr>\n    <tr>\n      <th>35</th>\n      <td>Programozási nyelvek</td>\n      <td>IB405E</td>\n    </tr>\n    <tr>\n      <th>36</th>\n      <td>Programozási nyelvek</td>\n      <td>IB405G</td>\n    </tr>\n    <tr>\n      <th>37</th>\n      <td>Információbiztonság ea</td>\n      <td>IB716E</td>\n    </tr>\n    <tr>\n      <th>38</th>\n      <td>Információbiztonság lab</td>\n      <td>IB716L</td>\n    </tr>\n    <tr>\n      <th>39</th>\n      <td>Rendszerfejlesztés I. ea</td>\n      <td>IB153E</td>\n    </tr>\n    <tr>\n      <th>40</th>\n      <td>Rendszerfejlesztés I. lab</td>\n      <td>IB153L</td>\n    </tr>\n    <tr>\n      <th>41</th>\n      <td>Webtervezés ea</td>\n      <td>IB714E</td>\n    </tr>\n    <tr>\n      <th>42</th>\n      <td>Webtervezés lab</td>\n      <td>IB714G</td>\n    </tr>\n    <tr>\n      <th>43</th>\n      <td>Digitális képfeldolgozás ea</td>\n      <td>IB042E</td>\n    </tr>\n    <tr>\n      <th>44</th>\n      <td>Digitális képfeldolgozás lab</td>\n      <td>IB042G</td>\n    </tr>\n    <tr>\n      <th>46</th>\n      <td>Szakdolgozat készítése 1. (pti)</td>\n      <td>IB3000G</td>\n    </tr>\n    <tr>\n      <th>47</th>\n      <td>Szakdolgozat készítése 2. (pti)</td>\n      <td>IB3001G</td>\n    </tr>\n  </tbody>\n</table>\n</div>"
     },
     "execution_count": 254,
     "metadata": {},
     "output_type": "execute_result"
    }
   ],
   "source": [
    "merged"
   ],
   "metadata": {
    "collapsed": false,
    "ExecuteTime": {
     "end_time": "2023-11-30T19:08:49.312460Z",
     "start_time": "2023-11-30T19:08:49.292922400Z"
    }
   }
  },
  {
   "cell_type": "code",
   "execution_count": 255,
   "outputs": [],
   "source": [
    "merged = merged.sort_values(by=\"Név\", ascending=True).reset_index(drop=True)\n",
    "\n",
    "kotelezo_targyak = export_df2[export_df2[\"Tárgycsoport kódja\"].isin(merged[\"Tárgycsoport kódja\"])]\n",
    "\n",
    "kotelezo_targyak = kotelezo_targyak.sort_values(by=\"Név\", ascending=True).reset_index(drop=True)\n",
    "\n",
    "fennmarado_kotelezo_targyak = pd.concat([merged, kotelezo_targyak]).drop_duplicates(subset=['Tárgycsoport kódja'],\n",
    "                                                                                    keep=False)"
   ],
   "metadata": {
    "collapsed": false,
    "ExecuteTime": {
     "end_time": "2023-11-30T19:08:51.144253200Z",
     "start_time": "2023-11-30T19:08:51.103348400Z"
    }
   }
  },
  {
   "cell_type": "code",
   "execution_count": 256,
   "outputs": [
    {
     "data": {
      "text/plain": "                                         Név Tárgycsoport kódja\n8                     Bonyolultságelmélet ea            IBK507E\n9                     Bonyolultságelmélet gy            IBK507G\n10               Digitális képfeldolgozás ea             IB042E\n11              Digitális képfeldolgozás lab             IB042G\n20  Közelítő és szimbolikus számítások I. ea            IBK301E\n24           Mesterséges intelligencia I. ea            IBK154E\n25           Mesterséges intelligencia I. gy            IBK154G\n41           Szakdolgozat készítése 2. (pti)            IB3001G",
      "text/html": "<div>\n<style scoped>\n    .dataframe tbody tr th:only-of-type {\n        vertical-align: middle;\n    }\n\n    .dataframe tbody tr th {\n        vertical-align: top;\n    }\n\n    .dataframe thead th {\n        text-align: right;\n    }\n</style>\n<table border=\"1\" class=\"dataframe\">\n  <thead>\n    <tr style=\"text-align: right;\">\n      <th></th>\n      <th>Név</th>\n      <th>Tárgycsoport kódja</th>\n    </tr>\n  </thead>\n  <tbody>\n    <tr>\n      <th>8</th>\n      <td>Bonyolultságelmélet ea</td>\n      <td>IBK507E</td>\n    </tr>\n    <tr>\n      <th>9</th>\n      <td>Bonyolultságelmélet gy</td>\n      <td>IBK507G</td>\n    </tr>\n    <tr>\n      <th>10</th>\n      <td>Digitális képfeldolgozás ea</td>\n      <td>IB042E</td>\n    </tr>\n    <tr>\n      <th>11</th>\n      <td>Digitális képfeldolgozás lab</td>\n      <td>IB042G</td>\n    </tr>\n    <tr>\n      <th>20</th>\n      <td>Közelítő és szimbolikus számítások I. ea</td>\n      <td>IBK301E</td>\n    </tr>\n    <tr>\n      <th>24</th>\n      <td>Mesterséges intelligencia I. ea</td>\n      <td>IBK154E</td>\n    </tr>\n    <tr>\n      <th>25</th>\n      <td>Mesterséges intelligencia I. gy</td>\n      <td>IBK154G</td>\n    </tr>\n    <tr>\n      <th>41</th>\n      <td>Szakdolgozat készítése 2. (pti)</td>\n      <td>IB3001G</td>\n    </tr>\n  </tbody>\n</table>\n</div>"
     },
     "execution_count": 256,
     "metadata": {},
     "output_type": "execute_result"
    }
   ],
   "source": [
    "fennmarado_kotelezo_targyak"
   ],
   "metadata": {
    "collapsed": false,
    "ExecuteTime": {
     "end_time": "2023-11-30T19:08:52.415378800Z",
     "start_time": "2023-11-30T19:08:52.408259800Z"
    }
   }
  },
  {
   "cell_type": "code",
   "execution_count": null,
   "outputs": [],
   "source": [
    "merged"
   ],
   "metadata": {
    "collapsed": false
   }
  },
  {
   "cell_type": "code",
   "execution_count": null,
   "outputs": [],
   "source": [
    "kotelezo_targyak"
   ],
   "metadata": {
    "collapsed": false
   }
  },
  {
   "cell_type": "code",
   "execution_count": null,
   "outputs": [],
   "source": [
    "export_df2"
   ],
   "metadata": {
    "collapsed": false
   }
  },
  {
   "cell_type": "code",
   "execution_count": null,
   "outputs": [],
   "source": [],
   "metadata": {
    "collapsed": false
   }
  }
 ],
 "metadata": {
  "kernelspec": {
   "display_name": "Python 3",
   "language": "python",
   "name": "python3"
  },
  "language_info": {
   "codemirror_mode": {
    "name": "ipython",
    "version": 2
   },
   "file_extension": ".py",
   "mimetype": "text/x-python",
   "name": "python",
   "nbconvert_exporter": "python",
   "pygments_lexer": "ipython2",
   "version": "2.7.6"
  }
 },
 "nbformat": 4,
 "nbformat_minor": 0
}
